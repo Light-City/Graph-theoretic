{
 "cells": [
  {
   "cell_type": "markdown",
   "metadata": {},
   "source": [
    "# Data preprocessing and graph theory implementation"
   ]
  },
  {
   "cell_type": "markdown",
   "metadata": {},
   "source": [
    "## step 1 Load library"
   ]
  },
  {
   "cell_type": "code",
   "execution_count": 1,
   "metadata": {},
   "outputs": [],
   "source": [
    "from numpy import *\n",
    "import networkx as nx                   \n",
    "import matplotlib.pyplot as plt \n",
    "import pandas as pd\n",
    "import copy\n",
    "%matplotlib inline"
   ]
  },
  {
   "cell_type": "markdown",
   "metadata": {},
   "source": [
    "## step 2 Read Local File"
   ]
  },
  {
   "cell_type": "code",
   "execution_count": 2,
   "metadata": {},
   "outputs": [
    {
     "name": "stdout",
     "output_type": "stream",
     "text": [
      "Please enter a file name：1\n"
     ]
    }
   ],
   "source": [
    "file_number = int(input(\"Please enter a file name：\"))\n",
    "def openFile(file_number):\n",
    "    data = []\n",
    "    with open(\"../data/rawData/\"+ str(file_number)+\".txt\",\"r\") as f:\n",
    "        data=f.readlines()\n",
    "    return data"
   ]
  },
  {
   "cell_type": "code",
   "execution_count": 3,
   "metadata": {
    "scrolled": true
   },
   "outputs": [
    {
     "data": {
      "text/plain": [
       "['#application\\n',\n",
       " '#Entity : eq_2degre\\n',\n",
       " '#nodes\\n',\n",
       " '3\\n',\n",
       " '#dependency\\n',\n",
       " ' 0 1 1\\n',\n",
       " ' 0 0 0\\n',\n",
       " ' 0 0 0\\n',\n",
       " '#types\\n',\n",
       " ' 0 0 0\\n']"
      ]
     },
     "execution_count": 3,
     "metadata": {},
     "output_type": "execute_result"
    }
   ],
   "source": [
    "data = openFile(file_number)\n",
    "data"
   ]
  },
  {
   "cell_type": "code",
   "execution_count": 4,
   "metadata": {},
   "outputs": [
    {
     "data": {
      "text/plain": [
       "3"
      ]
     },
     "execution_count": 4,
     "metadata": {},
     "output_type": "execute_result"
    }
   ],
   "source": [
    "# get node number\n",
    "'''\n",
    "for example:\n",
    "#nodes\n",
    "3\n",
    "\n",
    "return 3\n",
    "'''\n",
    "node_number = int(data[3])\n",
    "node_number"
   ]
  },
  {
   "cell_type": "code",
   "execution_count": 5,
   "metadata": {},
   "outputs": [
    {
     "data": {
      "text/plain": [
       "['0', '0', '0']"
      ]
     },
     "execution_count": 5,
     "metadata": {},
     "output_type": "execute_result"
    }
   ],
   "source": [
    "# get types \n",
    "'''\n",
    "for example:\n",
    "#types\n",
    " 0 0 0\n",
    "\n",
    "return ['0','0','0']\n",
    "'''\n",
    "types = data[-1].strip().split(' ')\n",
    "types"
   ]
  },
  {
   "cell_type": "code",
   "execution_count": 6,
   "metadata": {},
   "outputs": [],
   "source": [
    "# According to the sequence of IP cores\n",
    "def seqList(types):\n",
    "    type_set = set()\n",
    "    typeSetSeq = []\n",
    "    for i in types:\n",
    "        if i not in type_set:\n",
    "            type_set.add(i)\n",
    "            typeSetSeq.append(i)\n",
    "    return typeSetSeq"
   ]
  },
  {
   "cell_type": "code",
   "execution_count": 7,
   "metadata": {},
   "outputs": [
    {
     "data": {
      "text/plain": [
       "['0']"
      ]
     },
     "execution_count": 7,
     "metadata": {},
     "output_type": "execute_result"
    }
   ],
   "source": [
    "typeSetSeq = seqList(types)\n",
    "typeSetSeq"
   ]
  },
  {
   "cell_type": "code",
   "execution_count": 8,
   "metadata": {},
   "outputs": [
    {
     "name": "stdout",
     "output_type": "stream",
     "text": [
      "Please enter n trusted IP cores:0\n"
     ]
    }
   ],
   "source": [
    "# Enter n trusted IP cores\n",
    "while(True):\n",
    "    n_ip= int(input(\"Please enter n trusted IP cores:\"))\n",
    "    if n_ip<=len(typeSetSeq):\n",
    "        break;"
   ]
  },
  {
   "cell_type": "markdown",
   "metadata": {},
   "source": [
    "## step 3 Create Raw Matrix"
   ]
  },
  {
   "cell_type": "code",
   "execution_count": 9,
   "metadata": {},
   "outputs": [
    {
     "name": "stdout",
     "output_type": "stream",
     "text": [
      "[[0 0 0]\n",
      " [0 0 0]\n",
      " [0 0 0]]\n",
      "[' 0 1 1\\n', ' 0 0 0\\n', ' 0 0 0\\n']\n"
     ]
    }
   ],
   "source": [
    "# create matrix\n",
    "'''\n",
    " 0 1 1\n",
    " 0 0 0\n",
    " 0 0 0\n",
    "'''\n",
    "\n",
    "raw_matrix = zeros((node_number,node_number),dtype=int)    \n",
    "print(raw_matrix)\n",
    "\n",
    "# Get all matrix rows\n",
    "lines = data[5:-2]\n",
    "print(lines)"
   ]
  },
  {
   "cell_type": "code",
   "execution_count": 10,
   "metadata": {},
   "outputs": [],
   "source": [
    "# get raw matrix\n",
    "def getMatrix(lines):\n",
    "    # format list for lines\n",
    "    raw_matrix_row = 0                      # Represents the rows of the matrix, starting from row 0\n",
    "    for line in lines:             #Read the data in lines line by line\n",
    "        list = line.strip().strip('\\n').split(' ')      #Process line-by-line data: strip means removing the '\\ n' from the head and tail, split means splitting the line data with spaces, and then returning the processed line data to the list\n",
    "        raw_matrix[raw_matrix_row:] = list[:node_number]                    #Place the processed data in square matrix A. list [0: 3] means that the 0,1,2 columns of the list are placed in the A_row row in matrix A\n",
    "        raw_matrix_row+=1        #Then continue reading the next row of matrix A                        \n",
    "        #print(line)"
   ]
  },
  {
   "cell_type": "code",
   "execution_count": 11,
   "metadata": {},
   "outputs": [
    {
     "name": "stdout",
     "output_type": "stream",
     "text": [
      "[[0 1 1]\n",
      " [0 0 0]\n",
      " [0 0 0]]\n"
     ]
    }
   ],
   "source": [
    "getMatrix(lines)\n",
    "# print\n",
    "print(raw_matrix)    "
   ]
  },
  {
   "cell_type": "markdown",
   "metadata": {},
   "source": [
    "## step 4 Matrix transformation and expansion"
   ]
  },
  {
   "cell_type": "code",
   "execution_count": 12,
   "metadata": {},
   "outputs": [],
   "source": [
    "# Convert to symmetric matrix\n",
    "def toNoDirectGraph(matrix,n):\n",
    "    for i in range(n):\n",
    "        for j in range(n):\n",
    "            if matrix[i][j]==1:\n",
    "                matrix[j][i]=matrix[i][j]\n",
    "    return matrix"
   ]
  },
  {
   "cell_type": "code",
   "execution_count": 13,
   "metadata": {},
   "outputs": [],
   "source": [
    "# def computeParentNode(matrix,n):\n",
    "#     raw = matrix\n",
    "#     for i in range(n):\n",
    "#         for j in range(i+1,n):\n",
    "#             for k in range(n):\n",
    "#                 if matrix[i][k]==1 and matrix[j][k]==1:\n",
    "#                     raw[i][j]=1\n",
    "#     return raw\n",
    "# print(raw_matrix)\n",
    "# print(computeParentNode(raw_matrix,node_number))\n",
    "# print(raw_matrix)"
   ]
  },
  {
   "cell_type": "code",
   "execution_count": 14,
   "metadata": {},
   "outputs": [],
   "source": [
    "# Matrix expansion\n",
    "def generateMatrix(matrix,n):\n",
    "    actual_number=n*3\n",
    "    bigMatrix = zeros((actual_number,actual_number),dtype=int) \n",
    "    for i in range(actual_number):\n",
    "        for j in range(actual_number):\n",
    "            # Start filling the upper left corner\n",
    "            if i<n and j<n:\n",
    "                bigMatrix[i][j]=matrix[i][j]\n",
    "                # Connecting special relationships\n",
    "                bigMatrix[i][i+n]=1\n",
    "                bigMatrix[i][i+2*n]=1\n",
    "            if i==0 and j<n:    \n",
    "                bigMatrix[j+n][j+2*n]=1\n",
    "            # Start expanding the middle section\n",
    "            if (i>=n and i<2*n) and (j>=n and j<2*n):\n",
    "                bigMatrix[i][j]=matrix[i-n][j-n]\n",
    "            # Start expanding the bottom right corner\n",
    "            if (i>=2*n and i<3*n) and (j>=2*n and j<3*n):\n",
    "                bigMatrix[i][j]=matrix[i-2*n][j-2*n]\n",
    "    return bigMatrix"
   ]
  },
  {
   "cell_type": "code",
   "execution_count": 15,
   "metadata": {},
   "outputs": [
    {
     "name": "stdout",
     "output_type": "stream",
     "text": [
      "[[0 1 1 1 0 0 1 0 0]\n",
      " [0 0 0 0 1 0 0 1 0]\n",
      " [0 0 0 0 0 1 0 0 1]\n",
      " [0 0 0 0 1 1 1 0 0]\n",
      " [0 0 0 0 0 0 0 1 0]\n",
      " [0 0 0 0 0 0 0 0 1]\n",
      " [0 0 0 0 0 0 0 1 1]\n",
      " [0 0 0 0 0 0 0 0 0]\n",
      " [0 0 0 0 0 0 0 0 0]]\n"
     ]
    }
   ],
   "source": [
    "bigMatrix=generateMatrix(raw_matrix,node_number)\n",
    "print(bigMatrix)"
   ]
  },
  {
   "cell_type": "code",
   "execution_count": 16,
   "metadata": {},
   "outputs": [
    {
     "name": "stdout",
     "output_type": "stream",
     "text": [
      "[[0 1 1 1 0 0 1 0 0]\n",
      " [1 0 0 0 1 0 0 1 0]\n",
      " [1 0 0 0 0 1 0 0 1]\n",
      " [1 0 0 0 1 1 1 0 0]\n",
      " [0 1 0 1 0 0 0 1 0]\n",
      " [0 0 1 1 0 0 0 0 1]\n",
      " [1 0 0 1 0 0 0 1 1]\n",
      " [0 1 0 0 1 0 1 0 0]\n",
      " [0 0 1 0 0 1 1 0 0]]\n",
      "(9, 9)\n"
     ]
    }
   ],
   "source": [
    "bigMatrix = toNoDirectGraph(bigMatrix,3*node_number) \n",
    "print(bigMatrix)\n",
    "print(bigMatrix.shape)"
   ]
  },
  {
   "cell_type": "markdown",
   "metadata": {},
   "source": [
    "## step 5 Modify the matrix based on the trusted IP core"
   ]
  },
  {
   "cell_type": "code",
   "execution_count": 17,
   "metadata": {},
   "outputs": [],
   "source": [
    "# time space is O(n)\n",
    "def getLoc(types,seq):\n",
    "    # Get the index of the trusted IP core from the type list (actual position -1)\n",
    "    pos = []\n",
    "    for i in range(len(types)):\n",
    "        if types[i] in seq:\n",
    "            pos.append(i)\n",
    "    return pos"
   ]
  },
  {
   "cell_type": "code",
   "execution_count": 18,
   "metadata": {},
   "outputs": [],
   "source": [
    "# Chinese: n如果等于typeSetSeq长度，表示全部ip核受信任,直接计算vendor1的价格,直接调到后面执行vendor计算\n",
    "# English: If n is equal to the length of typeSetSeq, it means that all IP cores are trusted, and the price of vendor1 is directly calculated, which is directly transferred to the vendor calculation later.\n",
    "\n",
    "# Chinese: 否则接着往下执行\n",
    "# English: Otherwise, proceed to the next step\n",
    "\n",
    "pos=[]\n",
    "\n",
    "# Some are trusted, some are untrusted, remove trusted IP cores\n",
    "if n_ip>0 and n_ip<len(typeSetSeq):\n",
    "    frontSeq  = typeSetSeq[:n_ip]  # Trusted ip core\n",
    "    print(frontSeq)\n",
    "    pos = getLoc(types,frontSeq)   # The index of the trusted IP core\n",
    "    print(pos)\n",
    "    # Expand pos to triple length\n",
    "    pos_1 = [i+node_number for i in pos]\n",
    "    print(pos_1)\n",
    "    pos_2 = [i+2*node_number for i in pos]\n",
    "    print(pos_2)\n",
    "    pos = pos+pos_1+pos_2\n",
    "    print(pos)   # The index corresponding to the IP core expanded three times\n",
    "    # Modify bigMatrix\n",
    "    for i in range(3*node_number):\n",
    "        if i in pos:\n",
    "            for j in range(3*node_number):\n",
    "                bigMatrix[i][j]=0\n",
    "        else:\n",
    "            for j in range(3*node_number):\n",
    "                if j in pos:\n",
    "                    bigMatrix[i][j]=0\n",
    "    bigMatrix"
   ]
  },
  {
   "cell_type": "code",
   "execution_count": 19,
   "metadata": {},
   "outputs": [
    {
     "data": {
      "text/plain": [
       "array([[0, 1, 1, 1, 0, 0, 1, 0, 0],\n",
       "       [1, 0, 0, 0, 1, 0, 0, 1, 0],\n",
       "       [1, 0, 0, 0, 0, 1, 0, 0, 1],\n",
       "       [1, 0, 0, 0, 1, 1, 1, 0, 0],\n",
       "       [0, 1, 0, 1, 0, 0, 0, 1, 0],\n",
       "       [0, 0, 1, 1, 0, 0, 0, 0, 1],\n",
       "       [1, 0, 0, 1, 0, 0, 0, 1, 1],\n",
       "       [0, 1, 0, 0, 1, 0, 1, 0, 0],\n",
       "       [0, 0, 1, 0, 0, 1, 1, 0, 0]])"
      ]
     },
     "execution_count": 19,
     "metadata": {},
     "output_type": "execute_result"
    }
   ],
   "source": [
    "bigMatrix"
   ]
  },
  {
   "cell_type": "markdown",
   "metadata": {},
   "source": [
    "## step 6 Create graphs and graph coloring"
   ]
  },
  {
   "cell_type": "code",
   "execution_count": 20,
   "metadata": {},
   "outputs": [],
   "source": [
    "# takes matrix and creates a undirected graph\n",
    "def CreateGraph():\n",
    "    df = pd.DataFrame(bigMatrix)\n",
    "    # create Graph\n",
    "    G = nx.from_pandas_adjacency(df)\n",
    "    return G"
   ]
  },
  {
   "cell_type": "code",
   "execution_count": 21,
   "metadata": {},
   "outputs": [],
   "source": [
    "G = CreateGraph()"
   ]
  },
  {
   "cell_type": "code",
   "execution_count": 22,
   "metadata": {},
   "outputs": [
    {
     "name": "stdout",
     "output_type": "stream",
     "text": [
      "{0: 0, 3: 1, 6: 2, 1: 1, 7: 0, 4: 2, 2: 1, 8: 0, 5: 2}\n",
      "[0, 1, 1, 1, 2, 2, 2, 0, 0]\n"
     ]
    }
   ],
   "source": [
    "# Find the minimum color needed for coloring\n",
    "# SLF method \n",
    "# https://www.semanticscholar.org/paper/Classical-Coloring-of-Graphs-Kosowski-Manuszewski/00d9eb1cb59935f6e0c406855c2d00d8a646dbff\n",
    "colors = nx.coloring.greedy_color(G, strategy='saturation_largest_first')\n",
    "print(colors)\n",
    "\n",
    "colors = [colors[k] for k in sorted(colors.keys())]\n",
    "print(colors)"
   ]
  },
  {
   "cell_type": "code",
   "execution_count": 23,
   "metadata": {},
   "outputs": [],
   "source": [
    "#draws the graph and displays the weights on the edges\n",
    "def DrawGraph(G,colors):\n",
    "    pos = nx.spring_layout(G)\n",
    "    nx.draw(G, pos, with_labels = True, node_color = colors, edge_color = 'black' ,width = 1, alpha = 0.7)  #with_labels=true is to show the node number in the output graph"
   ]
  },
  {
   "cell_type": "code",
   "execution_count": 24,
   "metadata": {},
   "outputs": [
    {
     "name": "stderr",
     "output_type": "stream",
     "text": [
      "/home/light/anaconda3/lib/python3.7/site-packages/networkx/drawing/nx_pylab.py:579: MatplotlibDeprecationWarning: \n",
      "The iterable function was deprecated in Matplotlib 3.1 and will be removed in 3.3. Use np.iterable instead.\n",
      "  if not cb.iterable(width):\n"
     ]
    },
    {
     "data": {
      "image/png": "[encoded data removed]",
      "text/plain": [
       "<Figure size 432x288 with 1 Axes>"
      ]
     },
     "metadata": {},
     "output_type": "display_data"
    }
   ],
   "source": [
    "DrawGraph(G,colors)"
   ]
  },
  {
   "cell_type": "code",
   "execution_count": 25,
   "metadata": {},
   "outputs": [
    {
     "name": "stdout",
     "output_type": "stream",
     "text": [
      "at least 3 colors\n"
     ]
    }
   ],
   "source": [
    "# Get the minimum number of graph coloring needed\n",
    "colors_set = set()\n",
    "for i in colors:\n",
    "    colors_set.add(i)\n",
    "\n",
    "minimum_color = len(colors_set)\n",
    "print(\"at least \"+str(minimum_color)+\" colors\")\n",
    "\n",
    "# get a dict for {color:[nodes]}\n",
    "result_dict = {}\n",
    "for i in range(len(colors)):\n",
    "    if colors[i] not in result_dict:\n",
    "        result_dict[colors[i]]=[]\n",
    "    result_dict[colors[i]].append(i+1)\n",
    "# result_dict\n",
    "# Note that the Index in the figure starts from 0, here is 1"
   ]
  },
  {
   "cell_type": "markdown",
   "metadata": {},
   "source": [
    "## step 7 Store color and node relationships"
   ]
  },
  {
   "cell_type": "code",
   "execution_count": 26,
   "metadata": {},
   "outputs": [],
   "source": [
    "# list lengths are not equal, in order to store correctly, fill with -1\n",
    "save_dict = copy.deepcopy(result_dict)\n",
    "max_len = 0\n",
    "for k,v in save_dict.items():\n",
    "    max_len=max(max_len,len(v))\n",
    "for k,v in save_dict.items():\n",
    "    if len(v)<max_len:\n",
    "        for i in range(max_len-len(v)):\n",
    "            v.append(-1)\n",
    "# save_dict"
   ]
  },
  {
   "cell_type": "code",
   "execution_count": 27,
   "metadata": {},
   "outputs": [],
   "source": [
    "import pandas as pd\n",
    "save = pd.DataFrame(save_dict)\n",
    "\n",
    "save.to_csv('../data/graphColor/'+str(file_number)+'_'+str(n_ip)+'_cipr.txt',sep=' ',index=False)"
   ]
  },
  {
   "cell_type": "code",
   "execution_count": 28,
   "metadata": {},
   "outputs": [
    {
     "name": "stdout",
     "output_type": "stream",
     "text": [
      "['0', '0', '0', '0', '0', '0', '0', '0', '0']\n",
      "[1, 2, 3, 4, 5, 6, 7, 8, 9]\n",
      "{1: '0', 2: '0', 3: '0', 4: '0', 5: '0', 6: '0', 7: '0', 8: '0', 9: '0'}\n",
      "{0: ['0', '0', '0'], 1: ['0', '0', '0'], 2: ['0', '0', '0']}\n"
     ]
    }
   ],
   "source": [
    "# Establish a mapping relationship between nodes and IP cores\n",
    "types_list=(data[-1].strip().split(' '))*3\n",
    "print(types_list)\n",
    "# types\n",
    "node_list = []\n",
    "for i in range(1,3*node_number+1):\n",
    "    node_list.append(i)\n",
    "print(node_list)\n",
    "node_ip = dict(zip(node_list,types_list))\n",
    "print(node_ip)\n",
    "# 开始转换\n",
    "for key in result_dict:\n",
    "    each_list = []\n",
    "    for each in result_dict[key]:\n",
    "        each_list.append(node_ip[each])\n",
    "    result_dict[key]=each_list\n",
    "    \n",
    "print(result_dict)"
   ]
  },
  {
   "cell_type": "code",
   "execution_count": 29,
   "metadata": {},
   "outputs": [],
   "source": [
    "save_dict = copy.deepcopy(result_dict)\n",
    "max_len = 0\n",
    "for k,v in save_dict.items():\n",
    "    max_len=max(max_len,len(v))\n",
    "for k,v in save_dict.items():\n",
    "    if len(v)<max_len:\n",
    "        for i in range(max_len-len(v)):\n",
    "            v.append(-1)\n",
    "save_dict\n",
    "\n",
    "save = pd.DataFrame(save_dict)\n",
    "\n",
    "save.to_csv('../data/graphColor/'+str(file_number)+'_'+str(n_ip)+'_cip.txt',sep=' ',index=False)"
   ]
  },
  {
   "cell_type": "markdown",
   "metadata": {},
   "source": [
    "## step 8 Generate weight matrix and store"
   ]
  },
  {
   "cell_type": "code",
   "execution_count": 30,
   "metadata": {},
   "outputs": [],
   "source": [
    "# Generate weight matrix\n",
    "# Read the weight data provided by the manufacturer\n",
    "vendor_weight = pd.read_csv('../data/rawData/weight.csv')\n",
    "\n",
    "s,col = vendor_weight.shape\n",
    "\n",
    "\n",
    "weightMatrix = zeros((s,minimum_color),dtype=int) # the minimum number of graph coloring needed"
   ]
  },
  {
   "cell_type": "code",
   "execution_count": 31,
   "metadata": {},
   "outputs": [
    {
     "name": "stdout",
     "output_type": "stream",
     "text": [
      "[[-539 -548 -585 -565 -535 -581]\n",
      " [-539 -548 -585 -565 -535 -581]\n",
      " [-539 -548 -585 -565 -535 -581]]\n"
     ]
    }
   ],
   "source": [
    "# All are trusted IP cores, calculated directly at vendor1 price\n",
    "if n_ip==len(typeSetSeq):\n",
    "    totalprice=0\n",
    "    for each in typeSetSeq:\n",
    "        totalprice += vendor_weight[each][0] # Columns, rows Calculated at the price of vendor1\n",
    "    print(totalprice)\n",
    "# Has a trusted IP core, calculated at vendor1 price\n",
    "elif n_ip>0 and n_ip<len(typeSetSeq):\n",
    "    frontSeq  = typeSetSeq[:n_ip]  # Trusted ip core\n",
    "    print(frontSeq)\n",
    "    # Consider the price of vendor1 as the price of the trusted IP core\n",
    "    for key in result_dict: # Color fill column\n",
    "        i=0 \n",
    "        while i<s:  # each row\n",
    "            totalprice = 0\n",
    "            d_set = set()\n",
    "            # Color: IP core corresponding to the corresponding node\n",
    "            for each in result_dict[key]:\n",
    "                if each in d_set:\n",
    "                    continue\n",
    "                else:\n",
    "                    d_set.add(each)\n",
    "                    if each in frontSeq:  # Trusted ip core\n",
    "                        totalprice += vendor_weight[each][0] # Columns, rows Calculated at the price of vendor1\n",
    "                    else: # Is an untrusted ip core\n",
    "                        totalprice += vendor_weight[each][i] # Columns, rows\n",
    "            weightMatrix[i][key-1]=totalprice\n",
    "            i+=1\n",
    "    print(-weightMatrix.T)\n",
    "else:\n",
    "    # Are untrusted IP core calculations\n",
    "    for key in result_dict: # Color fill column\n",
    "        i=0 \n",
    "        while i<s:  # each row\n",
    "            totalprice = 0\n",
    "            d_set = set()\n",
    "            # Color: IP core corresponding to the corresponding node\n",
    "            for each in result_dict[key]:\n",
    "    #             print(each)\n",
    "                if each in d_set:\n",
    "                    continue\n",
    "                else:\n",
    "                    d_set.add(each)\n",
    "                    totalprice += vendor_weight[each][i] # Columns, rows\n",
    "            weightMatrix[i][key-1]=totalprice\n",
    "            i+=1\n",
    "    print(-weightMatrix.T)"
   ]
  },
  {
   "cell_type": "code",
   "execution_count": 32,
   "metadata": {},
   "outputs": [],
   "source": [
    "# save weight\n",
    "import numpy as np\n",
    "np.savetxt(\"../data/graphColor/\"+str(file_number)+'_'+str(n_ip)+'_weight.txt',-weightMatrix.T,fmt=\"%d\")"
   ]
  },
  {
   "cell_type": "code",
   "execution_count": null,
   "metadata": {},
   "outputs": [],
   "source": []
  },
  {
   "cell_type": "code",
   "execution_count": null,
   "metadata": {},
   "outputs": [],
   "source": []
  },
  {
   "cell_type": "code",
   "execution_count": null,
   "metadata": {},
   "outputs": [],
   "source": []
  },
  {
   "cell_type": "code",
   "execution_count": null,
   "metadata": {},
   "outputs": [],
   "source": []
  }
 ],
 "metadata": {
  "kernelspec": {
   "display_name": "Python 3",
   "language": "python",
   "name": "python3"
  },
  "language_info": {
   "codemirror_mode": {
    "name": "ipython",
    "version": 3
   },
   "file_extension": ".py",
   "mimetype": "text/x-python",
   "name": "python",
   "nbconvert_exporter": "python",
   "pygments_lexer": "ipython3",
   "version": "3.7.4"
  },
  "toc": {
   "base_numbering": 1,
   "nav_menu": {},
   "number_sections": true,
   "sideBar": true,
   "skip_h1_title": false,
   "title_cell": "Table of Contents",
   "title_sidebar": "Contents",
   "toc_cell": false,
   "toc_position": {
    "height": "577.6px",
    "left": "21px",
    "top": "110px",
    "width": "177.8px"
   },
   "toc_section_display": true,
   "toc_window_display": true
  }
 },
 "nbformat": 4,
 "nbformat_minor": 2
}
