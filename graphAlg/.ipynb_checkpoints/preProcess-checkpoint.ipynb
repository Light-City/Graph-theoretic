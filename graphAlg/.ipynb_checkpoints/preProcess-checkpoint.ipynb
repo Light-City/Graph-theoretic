{
 "cells": [
  {
   "cell_type": "code",
   "execution_count": 1,
   "metadata": {
    "scrolled": false
   },
   "outputs": [],
   "source": [
    "file_number = 4\n",
    "with open(\"../data/rawData/\"+ str(file_number)+\".txt\",\"r\") as f:\n",
    "    global data\n",
    "    data=f.readlines()\n",
    "# print(data)\n",
    "node_number = int(data[3])"
   ]
  },
  {
   "cell_type": "code",
   "execution_count": 2,
   "metadata": {},
   "outputs": [],
   "source": [
    "types = data[-1].strip().split(' ')\n",
    "\n",
    "# 按照顺序后的ip核排列\n",
    "def seqList(types):\n",
    "    type_set = set()\n",
    "    typeSetSeq = []\n",
    "    for i in types:\n",
    "        if i not in type_set:\n",
    "            type_set.add(i)\n",
    "            typeSetSeq.append(i)\n",
    "    return typeSetSeq\n",
    "\n",
    "typeSetSeq = seqList(types)  "
   ]
  },
  {
   "cell_type": "code",
   "execution_count": 3,
   "metadata": {
    "scrolled": true
   },
   "outputs": [
    {
     "data": {
      "text/plain": [
       "['1', '0']"
      ]
     },
     "execution_count": 3,
     "metadata": {},
     "output_type": "execute_result"
    }
   ],
   "source": [
    "typeSetSeq # 按照顺序后的ip核排列"
   ]
  },
  {
   "cell_type": "code",
   "execution_count": 4,
   "metadata": {},
   "outputs": [
    {
     "name": "stdout",
     "output_type": "stream",
     "text": [
      "请输入n个受信任ip核:0\n"
     ]
    }
   ],
   "source": [
    "# 输入n个受信任ip核\n",
    "while(True):\n",
    "    n_ip= int(input(\"请输入n个受信任ip核:\"))\n",
    "    if n_ip<=len(typeSetSeq):\n",
    "        break;"
   ]
  },
  {
   "cell_type": "code",
   "execution_count": 5,
   "metadata": {},
   "outputs": [],
   "source": [
    "# 建立矩阵\n",
    "'''\n",
    "数据文件：2.txt内容：（以空格分开每个数据）\n",
    "1 2 2.5\n",
    "3 4 4\n",
    "7 8 7\n",
    "'''\n",
    " \n",
    "from numpy import *\n",
    "raw_matrix = zeros((node_number,node_number),dtype=int)    \n",
    "# print(raw_matrix)\n",
    "# 获取所有的矩阵行\n",
    "lines = data[5:-2]\n",
    "# print(lines)\n",
    "raw_matrix_row = 0                       #表示矩阵的行，从0行开始\n",
    "for line in lines:              #把lines中的数据逐行读取出来\n",
    "    list = line.strip().strip('\\n').split(' ')      #处理逐行数据：strip表示把头尾的'\\n'去掉，split表示以空格来分割行数据，然后把处理后的行数据返回到list列表中\n",
    "#     print(list)\n",
    "    raw_matrix[raw_matrix_row:] = list[:node_number]                    #把处理后的数据放到方阵A中。list[0:3]表示列表的0,1,2列数据放到矩阵A中的A_row行\n",
    "    raw_matrix_row+=1                                #然后方阵A的下一行接着读\n",
    "    #print(line)\n",
    "\n",
    "# print(raw_matrix)    #打印 方阵A里的数据\n",
    " "
   ]
  },
  {
   "cell_type": "code",
   "execution_count": 7,
   "metadata": {},
   "outputs": [],
   "source": [
    "# 转换为对称矩阵\n",
    "def toNoDirectGraph(matrix,n):\n",
    "    for i in range(n):\n",
    "        for j in range(n):\n",
    "            if matrix[i][j]==1:\n",
    "                matrix[j][i]=matrix[i][j]\n",
    "#             elif matrix[j][i]==1:\n",
    "#                 matrix[i][j]=matrix[j][i]\n",
    "    return matrix\n"
   ]
  },
  {
   "cell_type": "code",
   "execution_count": 8,
   "metadata": {},
   "outputs": [],
   "source": [
    "def computeParentNode(matrix,n):\n",
    "    raw = matrix\n",
    "    for i in range(n):\n",
    "        for j in range(i+1,n):\n",
    "            for k in range(n):\n",
    "                if matrix[i][k]==1 and matrix[j][k]==1:\n",
    "                    raw[i][j]=1\n",
    "    return raw\n",
    "# print(raw_matrix)\n",
    "# print(computeParentNode(raw_matrix,node_number))\n",
    "# print(raw_matrix)"
   ]
  },
  {
   "cell_type": "code",
   "execution_count": 9,
   "metadata": {},
   "outputs": [],
   "source": [
    "# 矩阵扩充\n",
    "def generateMatrix(matrix,n):\n",
    "    actual_number=n*3\n",
    "    bigMatrix = zeros((actual_number,actual_number),dtype=int) \n",
    "    for i in range(actual_number):\n",
    "        for j in range(actual_number):\n",
    "            # 开始填充左上角部分\n",
    "            if i<n and j<n:\n",
    "                bigMatrix[i][j]=matrix[i][j]\n",
    "                # 连接特殊关系\n",
    "                bigMatrix[i][i+n]=1\n",
    "                bigMatrix[i][i+2*n]=1\n",
    "            if i==0 and j<n:    \n",
    "                bigMatrix[j+n][j+2*n]=1\n",
    "            # 开始扩充中间部分\n",
    "            if (i>=n and i<2*n) and (j>=n and j<2*n):\n",
    "                bigMatrix[i][j]=matrix[i-n][j-n]\n",
    "            # 开始扩充右下角部分\n",
    "            if (i>=2*n and i<3*n) and (j>=2*n and j<3*n):\n",
    "                bigMatrix[i][j]=matrix[i-2*n][j-2*n]\n",
    "    return bigMatrix"
   ]
  },
  {
   "cell_type": "code",
   "execution_count": 10,
   "metadata": {},
   "outputs": [
    {
     "name": "stdout",
     "output_type": "stream",
     "text": [
      "[[0 1 0 ... 0 0 0]\n",
      " [0 0 0 ... 0 0 0]\n",
      " [0 0 0 ... 0 0 0]\n",
      " ...\n",
      " [0 0 0 ... 0 1 0]\n",
      " [0 0 0 ... 0 0 1]\n",
      " [0 0 0 ... 0 0 0]]\n"
     ]
    }
   ],
   "source": [
    "bigMatrix=generateMatrix(raw_matrix,node_number)\n",
    "print(bigMatrix)"
   ]
  },
  {
   "cell_type": "code",
   "execution_count": 11,
   "metadata": {},
   "outputs": [
    {
     "name": "stdout",
     "output_type": "stream",
     "text": [
      "[[0 1 0 ... 0 0 0]\n",
      " [1 0 0 ... 0 0 0]\n",
      " [0 0 0 ... 0 0 0]\n",
      " ...\n",
      " [0 0 0 ... 0 1 0]\n",
      " [0 0 0 ... 1 0 1]\n",
      " [0 0 0 ... 0 1 0]]\n",
      "(138, 138)\n"
     ]
    }
   ],
   "source": [
    "bigMatrix = toNoDirectGraph(bigMatrix,3*node_number) \n",
    "print(bigMatrix)\n",
    "print(bigMatrix.shape)"
   ]
  },
  {
   "cell_type": "code",
   "execution_count": 12,
   "metadata": {},
   "outputs": [],
   "source": [
    "# time space is O(n)\n",
    "def getLoc(types,seq):\n",
    "    # 从types列表中得到受信任ip核的index(实际位置-1)\n",
    "    pos = []\n",
    "    for i in range(len(types)):\n",
    "        # set查找O(1)\n",
    "        if types[i] in seq:\n",
    "            pos.append(i)\n",
    "    return pos\n",
    "\n",
    "\n",
    "# n如果等于typeSetSeq长度，表示全部ip核受信任,直接计算vendor1的价格,直接调到后面执行vendor计算\n",
    "\n",
    "# 否则接着往下执行\n",
    "\n",
    "pos=[]\n",
    "# 有些是受信任,有些是不受信任的,剔除受信任的ip核\n",
    "if n_ip>0 and n_ip<len(typeSetSeq):\n",
    "    frontSeq  = typeSetSeq[:n_ip]  # 受信任的ip核\n",
    "    print(frontSeq)\n",
    "    pos = getLoc(types,frontSeq)   # 受信任的ip核对应的index\n",
    "    print(pos)\n",
    "    # 扩充pos到三倍长度\n",
    "    pos_1 = [i+node_number for i in pos]\n",
    "    print(pos_1)\n",
    "    pos_2 = [i+2*node_number for i in pos]\n",
    "    print(pos_2)\n",
    "    pos = pos+pos_1+pos_2\n",
    "    print(pos)   # 扩充到三倍后的ip核对应的index\n",
    "        # 修改bigMatrix\n",
    "    for i in range(3*node_number):\n",
    "        if i in pos:\n",
    "            for j in range(3*node_number):\n",
    "                bigMatrix[i][j]=0\n",
    "        else:\n",
    "            for j in range(3*node_number):\n",
    "                if j in pos:\n",
    "                    bigMatrix[i][j]=0\n",
    "    bigMatrix"
   ]
  },
  {
   "cell_type": "code",
   "execution_count": 13,
   "metadata": {},
   "outputs": [
    {
     "data": {
      "text/plain": [
       "array([[0, 1, 0, ..., 0, 0, 0],\n",
       "       [1, 0, 0, ..., 0, 0, 0],\n",
       "       [0, 0, 0, ..., 0, 0, 0],\n",
       "       ...,\n",
       "       [0, 0, 0, ..., 0, 1, 0],\n",
       "       [0, 0, 0, ..., 1, 0, 1],\n",
       "       [0, 0, 0, ..., 0, 1, 0]])"
      ]
     },
     "execution_count": 13,
     "metadata": {},
     "output_type": "execute_result"
    }
   ],
   "source": [
    "bigMatrix"
   ]
  },
  {
   "cell_type": "code",
   "execution_count": 14,
   "metadata": {},
   "outputs": [
    {
     "name": "stdout",
     "output_type": "stream",
     "text": [
      "1\n",
      "2\n",
      "3\n"
     ]
    },
    {
     "ename": "KeyboardInterrupt",
     "evalue": "",
     "output_type": "error",
     "traceback": [
      "\u001b[0;31m---------------------------------------------------------------------------\u001b[0m",
      "\u001b[0;31mKeyboardInterrupt\u001b[0m                         Traceback (most recent call last)",
      "\u001b[0;32m<ipython-input-14-4ed7fdb862fc>\u001b[0m in \u001b[0;36m<module>\u001b[0;34m\u001b[0m\n\u001b[1;32m     36\u001b[0m \u001b[0;32mwhile\u001b[0m \u001b[0;36m1\u001b[0m\u001b[0;34m:\u001b[0m\u001b[0;34m\u001b[0m\u001b[0;34m\u001b[0m\u001b[0m\n\u001b[1;32m     37\u001b[0m     \u001b[0mprint\u001b[0m\u001b[0;34m(\u001b[0m\u001b[0mleastpoint\u001b[0m\u001b[0;34m)\u001b[0m\u001b[0;34m\u001b[0m\u001b[0;34m\u001b[0m\u001b[0m\n\u001b[0;32m---> 38\u001b[0;31m     \u001b[0mres\u001b[0m \u001b[0;34m=\u001b[0m \u001b[0mgraphcolor\u001b[0m\u001b[0;34m(\u001b[0m\u001b[0mbig_n\u001b[0m\u001b[0;34m,\u001b[0m\u001b[0mleastpoint\u001b[0m\u001b[0;34m,\u001b[0m\u001b[0mbigMatrix\u001b[0m\u001b[0;34m)\u001b[0m \u001b[0;31m#从1开始\u001b[0m\u001b[0;34m\u001b[0m\u001b[0;34m\u001b[0m\u001b[0m\n\u001b[0m\u001b[1;32m     39\u001b[0m     \u001b[0;32mif\u001b[0m \u001b[0mres\u001b[0m\u001b[0;34m:\u001b[0m\u001b[0;34m\u001b[0m\u001b[0;34m\u001b[0m\u001b[0m\n\u001b[1;32m     40\u001b[0m         \u001b[0mprint\u001b[0m\u001b[0;34m(\u001b[0m\u001b[0;34m\"该矩阵至少需要\"\u001b[0m\u001b[0;34m+\u001b[0m \u001b[0mstr\u001b[0m\u001b[0;34m(\u001b[0m\u001b[0mleastpoint\u001b[0m\u001b[0;34m)\u001b[0m \u001b[0;34m+\u001b[0m\u001b[0;34m\"种颜色着色!\\n\"\u001b[0m\u001b[0;34m)\u001b[0m\u001b[0;34m\u001b[0m\u001b[0;34m\u001b[0m\u001b[0m\n",
      "\u001b[0;32m<ipython-input-14-4ed7fdb862fc>\u001b[0m in \u001b[0;36mgraphcolor\u001b[0;34m(n, m, matrix)\u001b[0m\n\u001b[1;32m     17\u001b[0m         \u001b[0mcolor\u001b[0m\u001b[0;34m[\u001b[0m\u001b[0mk\u001b[0m\u001b[0;34m]\u001b[0m\u001b[0;34m=\u001b[0m\u001b[0mcolor\u001b[0m\u001b[0;34m[\u001b[0m\u001b[0mk\u001b[0m\u001b[0;34m]\u001b[0m\u001b[0;34m+\u001b[0m\u001b[0;36m1\u001b[0m\u001b[0;34m;\u001b[0m\u001b[0;34m\u001b[0m\u001b[0;34m\u001b[0m\u001b[0m\n\u001b[1;32m     18\u001b[0m         \u001b[0;32mwhile\u001b[0m \u001b[0mcolor\u001b[0m\u001b[0;34m[\u001b[0m\u001b[0mk\u001b[0m\u001b[0;34m]\u001b[0m\u001b[0;34m<=\u001b[0m\u001b[0mm\u001b[0m\u001b[0;34m:\u001b[0m\u001b[0;34m\u001b[0m\u001b[0;34m\u001b[0m\u001b[0m\n\u001b[0;32m---> 19\u001b[0;31m             \u001b[0;32mif\u001b[0m \u001b[0mok\u001b[0m\u001b[0;34m(\u001b[0m\u001b[0mk\u001b[0m\u001b[0;34m,\u001b[0m\u001b[0mmatrix\u001b[0m\u001b[0;34m)\u001b[0m\u001b[0;34m:\u001b[0m\u001b[0;34m\u001b[0m\u001b[0;34m\u001b[0m\u001b[0m\n\u001b[0m\u001b[1;32m     20\u001b[0m                 \u001b[0;32mbreak\u001b[0m\u001b[0;34m\u001b[0m\u001b[0;34m\u001b[0m\u001b[0m\n\u001b[1;32m     21\u001b[0m             \u001b[0;32melse\u001b[0m\u001b[0;34m:\u001b[0m\u001b[0;34m\u001b[0m\u001b[0;34m\u001b[0m\u001b[0m\n",
      "\u001b[0;32m<ipython-input-14-4ed7fdb862fc>\u001b[0m in \u001b[0;36mok\u001b[0;34m(k, matrix)\u001b[0m\n\u001b[1;32m      7\u001b[0m \u001b[0;32mdef\u001b[0m \u001b[0mok\u001b[0m\u001b[0;34m(\u001b[0m\u001b[0mk\u001b[0m\u001b[0;34m,\u001b[0m\u001b[0mmatrix\u001b[0m\u001b[0;34m)\u001b[0m\u001b[0;34m:\u001b[0m\u001b[0;34m\u001b[0m\u001b[0;34m\u001b[0m\u001b[0m\n\u001b[1;32m      8\u001b[0m     \u001b[0;32mfor\u001b[0m \u001b[0mi\u001b[0m \u001b[0;32min\u001b[0m \u001b[0mrange\u001b[0m\u001b[0;34m(\u001b[0m\u001b[0;36m1\u001b[0m\u001b[0;34m,\u001b[0m\u001b[0mk\u001b[0m\u001b[0;34m)\u001b[0m\u001b[0;34m:\u001b[0m\u001b[0;34m\u001b[0m\u001b[0;34m\u001b[0m\u001b[0m\n\u001b[0;32m----> 9\u001b[0;31m         \u001b[0;32mif\u001b[0m \u001b[0mmatrix\u001b[0m\u001b[0;34m[\u001b[0m\u001b[0mk\u001b[0m\u001b[0;34m-\u001b[0m\u001b[0;36m1\u001b[0m\u001b[0;34m]\u001b[0m\u001b[0;34m[\u001b[0m\u001b[0mi\u001b[0m\u001b[0;34m-\u001b[0m\u001b[0;36m1\u001b[0m\u001b[0;34m]\u001b[0m\u001b[0;34m==\u001b[0m\u001b[0;36m1\u001b[0m \u001b[0;32mand\u001b[0m \u001b[0mcolor\u001b[0m\u001b[0;34m[\u001b[0m\u001b[0mi\u001b[0m\u001b[0;34m]\u001b[0m\u001b[0;34m==\u001b[0m\u001b[0mcolor\u001b[0m\u001b[0;34m[\u001b[0m\u001b[0mk\u001b[0m\u001b[0;34m]\u001b[0m\u001b[0;34m:\u001b[0m\u001b[0;34m\u001b[0m\u001b[0;34m\u001b[0m\u001b[0m\n\u001b[0m\u001b[1;32m     10\u001b[0m             \u001b[0;32mreturn\u001b[0m \u001b[0;36m0\u001b[0m\u001b[0;34m\u001b[0m\u001b[0;34m\u001b[0m\u001b[0m\n\u001b[1;32m     11\u001b[0m     \u001b[0;32mreturn\u001b[0m \u001b[0;36m1\u001b[0m\u001b[0;34m\u001b[0m\u001b[0;34m\u001b[0m\u001b[0m\n",
      "\u001b[0;31mKeyboardInterrupt\u001b[0m: "
     ]
    }
   ],
   "source": [
    "# 算法1:图着色实现\n",
    "count = 0\n",
    "big_n = 3*node_number\n",
    "color=[0]*(big_n+1)\n",
    "result_list=[]\n",
    "\n",
    "def ok(k,matrix):\n",
    "    for i in range(1,k):\n",
    "        if matrix[k-1][i-1]==1 and color[i]==color[k]:\n",
    "            return 0\n",
    "    return 1\n",
    "def graphcolor(n,m,matrix):\n",
    "    for i in range(1,n+1):\n",
    "        color[i]=0\n",
    "    k=1\n",
    "    while k>=1:\n",
    "        color[k]=color[k]+1;\n",
    "        while color[k]<=m:\n",
    "            if ok(k,matrix):\n",
    "                break\n",
    "            else:\n",
    "                color[k]=color[k]+1 #搜索下一个颜色\n",
    "        if color[k]<=m and k==n:\n",
    "            for i in range(1,n+1):\n",
    "                print(\"第\"+ str(i) +\"个结点着第\"+ str(color[i]) +\"色!\\n\");\n",
    "                result_list.append((color[i],i))\n",
    "            return 1;\n",
    "        elif color[k]<=m and k<n:\n",
    "            k=k+1 #处理下一个顶点\n",
    "        else:\n",
    "            color[k]=0;\n",
    "            k=k-1 #回溯\n",
    "    return 0  \n",
    "leastpoint = 1\n",
    "res = 0\n",
    "while 1:\n",
    "    print(leastpoint)\n",
    "    res = graphcolor(big_n,leastpoint,bigMatrix) #从1开始\n",
    "    if res:\n",
    "        print(\"该矩阵至少需要\"+ str(leastpoint) +\"种颜色着色!\\n\")\n",
    "        break\n",
    "    leastpoint+=1\n",
    "    \n",
    "# print(result_list)\n",
    "result_list.sort()\n",
    "# print(result_list)\n",
    "result_dict={}\n",
    "each_list=[]\n",
    "result_list.append((0,0))\n",
    "\n",
    "for i in range(len(result_list)-1):\n",
    "    each_list.append(result_list[i][1])\n",
    "    if result_list[i][0]!=result_list[i+1][0]:\n",
    "        result_dict[result_list[i][0]]=each_list\n",
    "        each_list=[]\n",
    "result_list.pop()\n",
    "print(result_list)\n",
    "print(result_dict)"
   ]
  },
  {
   "cell_type": "code",
   "execution_count": null,
   "metadata": {},
   "outputs": [],
   "source": [
    "import copy\n",
    "save_dict = copy.deepcopy(result_dict)\n",
    "max_len = 0\n",
    "for k,v in save_dict.items():\n",
    "    max_len=max(max_len,len(v))\n",
    "for k,v in save_dict.items():\n",
    "    if len(v)<max_len:\n",
    "        for i in range(max_len-len(v)):\n",
    "            v.append(-1)\n",
    "save_dict"
   ]
  },
  {
   "cell_type": "code",
   "execution_count": 15,
   "metadata": {},
   "outputs": [],
   "source": [
    "# result_dict[1]=[1,4,7,8,15]\n",
    "# result_dict[2]=[2,3,10,11,14]\n",
    "# result_dict[3]=[5,6,9,12,13]\n",
    "# result_dict\n",
    "import pandas as pd\n",
    "save = pd.DataFrame(save_dict)\n",
    "\n",
    "save.to_csv('../data/graphColor/'+str(file_number)+'_'+str(n_ip)+'_cipr.txt',sep=' ',index=False)"
   ]
  },
  {
   "cell_type": "code",
   "execution_count": 16,
   "metadata": {},
   "outputs": [
    {
     "name": "stdout",
     "output_type": "stream",
     "text": [
      "['0', '0', '0', '0', '0', '0', '0', '0', '0', '0', '0', '0', '0', '0', '0', '0', '0', '0', '0', '0', '0', '0', '0', '0', '0', '0', '0', '0', '0', '0', '0', '0', '0', '0', '0', '0', '0', '0', '0', '0', '0', '0', '0', '0', '0', '0', '0', '0', '0', '0', '0', '0', '0', '0', '0', '0', '0', '0', '0', '0', '0', '0', '0', '0', '0', '0', '0', '0', '0', '0', '0', '0', '0', '0', '0', '0', '0', '0', '0', '0', '0', '0', '0', '0', '0', '0', '0']\n",
      "[1, 2, 3, 4, 5, 6, 7, 8, 9, 10, 11, 12, 13, 14, 15, 16, 17, 18, 19, 20, 21, 22, 23, 24, 25, 26, 27, 28, 29, 30, 31, 32, 33, 34, 35, 36, 37, 38, 39, 40, 41, 42, 43, 44, 45, 46, 47, 48, 49, 50, 51, 52, 53, 54, 55, 56, 57, 58, 59, 60, 61, 62, 63, 64, 65, 66, 67, 68, 69, 70, 71, 72, 73, 74, 75, 76, 77, 78, 79, 80, 81, 82, 83, 84, 85, 86, 87]\n",
      "{1: '0', 2: '0', 3: '0', 4: '0', 5: '0', 6: '0', 7: '0', 8: '0', 9: '0', 10: '0', 11: '0', 12: '0', 13: '0', 14: '0', 15: '0', 16: '0', 17: '0', 18: '0', 19: '0', 20: '0', 21: '0', 22: '0', 23: '0', 24: '0', 25: '0', 26: '0', 27: '0', 28: '0', 29: '0', 30: '0', 31: '0', 32: '0', 33: '0', 34: '0', 35: '0', 36: '0', 37: '0', 38: '0', 39: '0', 40: '0', 41: '0', 42: '0', 43: '0', 44: '0', 45: '0', 46: '0', 47: '0', 48: '0', 49: '0', 50: '0', 51: '0', 52: '0', 53: '0', 54: '0', 55: '0', 56: '0', 57: '0', 58: '0', 59: '0', 60: '0', 61: '0', 62: '0', 63: '0', 64: '0', 65: '0', 66: '0', 67: '0', 68: '0', 69: '0', 70: '0', 71: '0', 72: '0', 73: '0', 74: '0', 75: '0', 76: '0', 77: '0', 78: '0', 79: '0', 80: '0', 81: '0', 82: '0', 83: '0', 84: '0', 85: '0', 86: '0', 87: '0'}\n",
      "{1: ['0', '0', '0', '0', '0', '0', '0', '0', '0', '0', '0', '0', '0', '0', '0', '0', '0', '0', '0', '0', '0', '0', '0', '0', '0', '0', '0', '0', '0'], 2: ['0', '0', '0', '0', '0', '0', '0', '0', '0', '0', '0', '0', '0', '0', '0', '0', '0', '0', '0', '0', '0', '0', '0', '0', '0', '0', '0', '0', '0'], 3: ['0', '0', '0', '0', '0', '0', '0', '0', '0', '0', '0', '0', '0', '0', '0', '0', '0', '0', '0', '0', '0', '0', '0', '0', '0', '0', '0', '0', '0']}\n"
     ]
    }
   ],
   "source": [
    "# 将D集合的对应节点转化为运算符\n",
    "# 建立节点与IP核映射关系\n",
    "types_list=(data[-1].strip().split(' '))*3\n",
    "print(types_list)\n",
    "# types\n",
    "node_list = []\n",
    "for i in range(1,3*node_number+1):\n",
    "    node_list.append(i)\n",
    "print(node_list)\n",
    "node_ip = dict(zip(node_list,types_list))\n",
    "print(node_ip)\n",
    "# 开始转换\n",
    "for key in result_dict:\n",
    "    each_list = []\n",
    "    for each in result_dict[key]:\n",
    "        each_list.append(node_ip[each])\n",
    "    result_dict[key]=each_list\n",
    "    \n",
    "print(result_dict)"
   ]
  },
  {
   "cell_type": "code",
   "execution_count": 17,
   "metadata": {},
   "outputs": [],
   "source": [
    "save_dict = copy.deepcopy(result_dict)\n",
    "max_len = 0\n",
    "for k,v in save_dict.items():\n",
    "    max_len=max(max_len,len(v))\n",
    "for k,v in save_dict.items():\n",
    "    if len(v)<max_len:\n",
    "        for i in range(max_len-len(v)):\n",
    "            v.append(-1)\n",
    "save_dict\n",
    "\n",
    "save = pd.DataFrame(save_dict)\n",
    "\n",
    "save.to_csv('../data/graphColor/'+str(file_number)+'_'+str(n_ip)+'_cip.txt',sep=' ',index=False)"
   ]
  },
  {
   "cell_type": "code",
   "execution_count": 18,
   "metadata": {},
   "outputs": [
    {
     "data": {
      "text/plain": [
       "{1: ['0',\n",
       "  '0',\n",
       "  '0',\n",
       "  '0',\n",
       "  '0',\n",
       "  '0',\n",
       "  '0',\n",
       "  '0',\n",
       "  '0',\n",
       "  '0',\n",
       "  '0',\n",
       "  '0',\n",
       "  '0',\n",
       "  '0',\n",
       "  '0',\n",
       "  '0',\n",
       "  '0',\n",
       "  '0',\n",
       "  '0',\n",
       "  '0',\n",
       "  '0',\n",
       "  '0',\n",
       "  '0',\n",
       "  '0',\n",
       "  '0',\n",
       "  '0',\n",
       "  '0',\n",
       "  '0',\n",
       "  '0'],\n",
       " 2: ['0',\n",
       "  '0',\n",
       "  '0',\n",
       "  '0',\n",
       "  '0',\n",
       "  '0',\n",
       "  '0',\n",
       "  '0',\n",
       "  '0',\n",
       "  '0',\n",
       "  '0',\n",
       "  '0',\n",
       "  '0',\n",
       "  '0',\n",
       "  '0',\n",
       "  '0',\n",
       "  '0',\n",
       "  '0',\n",
       "  '0',\n",
       "  '0',\n",
       "  '0',\n",
       "  '0',\n",
       "  '0',\n",
       "  '0',\n",
       "  '0',\n",
       "  '0',\n",
       "  '0',\n",
       "  '0',\n",
       "  '0'],\n",
       " 3: ['0',\n",
       "  '0',\n",
       "  '0',\n",
       "  '0',\n",
       "  '0',\n",
       "  '0',\n",
       "  '0',\n",
       "  '0',\n",
       "  '0',\n",
       "  '0',\n",
       "  '0',\n",
       "  '0',\n",
       "  '0',\n",
       "  '0',\n",
       "  '0',\n",
       "  '0',\n",
       "  '0',\n",
       "  '0',\n",
       "  '0',\n",
       "  '0',\n",
       "  '0',\n",
       "  '0',\n",
       "  '0',\n",
       "  '0',\n",
       "  '0',\n",
       "  '0',\n",
       "  '0',\n",
       "  '0',\n",
       "  '0']}"
      ]
     },
     "execution_count": 18,
     "metadata": {},
     "output_type": "execute_result"
    }
   ],
   "source": [
    "result_dict"
   ]
  },
  {
   "cell_type": "code",
   "execution_count": 19,
   "metadata": {
    "scrolled": true
   },
   "outputs": [
    {
     "name": "stdout",
     "output_type": "stream",
     "text": [
      "   vendor    0     1    2    3\n",
      "0       1  539  1128  877  393\n",
      "1       2  548  1192  863  354\n",
      "2       3  585  1111  886  311\n",
      "3       4  565  1127  894  385\n",
      "4       5  535  1124  849  378\n",
      "5       6  581  1149  882  315\n",
      "[[-539 -548 -585 -565 -535 -581]\n",
      " [-539 -548 -585 -565 -535 -581]\n",
      " [-539 -548 -585 -565 -535 -581]]\n"
     ]
    }
   ],
   "source": [
    "#生成权重矩阵\n",
    "# 读取厂商提供的权重数据\n",
    "import pandas as pd\n",
    "vendor_weight = pd.read_csv('../data/rawData/weight.csv')\n",
    "# print(vendor_weight)\n",
    "# 开始计算权重\n",
    "\n",
    "s,col = vendor_weight.shape\n",
    "\n",
    "# print(s)\n",
    "\n",
    "weightMatrix = zeros((s,leastpoint),dtype=int) # leastpoint=m 最少着色数\n",
    "\n",
    "# print(weightMatrix)\n",
    "\n",
    "print(vendor_weight)\n",
    "\n",
    "# print(vendor_weight['0'])  #  第'0'列\n",
    "\n",
    "# 全部是受信任的ip核，直接按照vendor1价格计算\n",
    "if n_ip==len(typeSetSeq):\n",
    "    totalprice=0\n",
    "    for each in typeSetSeq:\n",
    "        totalprice += vendor_weight[each][0] # 列,行  按照vendor1的价格计算\n",
    "    print(totalprice)\n",
    "# 有受信任的ip核,按照vendor1价格计算\n",
    "elif n_ip>0 and n_ip<len(typeSetSeq):\n",
    "    frontSeq  = typeSetSeq[:n_ip]  # 受信任的ip核\n",
    "    print(frontSeq)\n",
    "    # 考虑vendor1的价格作为受信任ip核的价格\n",
    "    for key in result_dict: #颜色填充列\n",
    "        i=0 \n",
    "        while i<s:  # 每一行\n",
    "            totalprice = 0\n",
    "            d_set = set()\n",
    "            # 颜色:对应节点对应的ip核\n",
    "            for each in result_dict[key]:\n",
    "                if each in d_set:\n",
    "                    continue\n",
    "                else:\n",
    "                    d_set.add(each)\n",
    "                    if each in frontSeq:  # 受信任ip核\n",
    "                        totalprice += vendor_weight[each][0] # 列,行  按照vendor1的价格计算\n",
    "                    else: # 是不受信任的ip核心\n",
    "                        totalprice += vendor_weight[each][i] # 列,行  \n",
    "            weightMatrix[i][key-1]=totalprice\n",
    "            i+=1\n",
    "    print(-weightMatrix.T)\n",
    "else:\n",
    "    # 都是不受信任的ip核计算\n",
    "    for key in result_dict: #颜色填充列\n",
    "        i=0 \n",
    "        while i<s:  # 每一行\n",
    "            totalprice = 0\n",
    "            d_set = set()\n",
    "            # 颜色:对应节点对应的ip核\n",
    "            for each in result_dict[key]:\n",
    "    #             print(each)\n",
    "                if each in d_set:\n",
    "                    continue\n",
    "                else:\n",
    "                    d_set.add(each)\n",
    "                    totalprice += vendor_weight[each][i] # 列,行\n",
    "            weightMatrix[i][key-1]=totalprice\n",
    "            i+=1\n",
    "    print(-weightMatrix.T)"
   ]
  },
  {
   "cell_type": "code",
   "execution_count": 20,
   "metadata": {},
   "outputs": [],
   "source": [
    "# print(weightMatrix.shape)\n",
    "# row,col=weightMatrix.shape\n",
    "# match_result = []\n",
    "# row_set = set()\n",
    "# for r in range(col):\n",
    "#     min = 0\n",
    "#     bestrow=1\n",
    "#     bestcol=r+1\n",
    "#     for c in range(row):\n",
    "#         if weightMatrix[c][r]<min:\n",
    "#             min=weightMatrix[c][r]\n",
    "#             if bestrow not in row_set:\n",
    "#                 row_set.add(bestrow)\n",
    "#             else:\n",
    "#             bestrow=c+1\n",
    "            \n",
    "#     match_result.append((bestrow,bestcol))\n",
    "\n",
    "# print(match_result)"
   ]
  },
  {
   "cell_type": "code",
   "execution_count": 21,
   "metadata": {},
   "outputs": [],
   "source": [
    "import numpy as np\n",
    "np.savetxt(\"../data/graphColor/\"+str(file_number)+'_'+str(n_ip)+'_weight.txt',-weightMatrix.T,fmt=\"%d\")"
   ]
  },
  {
   "cell_type": "code",
   "execution_count": null,
   "metadata": {},
   "outputs": [],
   "source": []
  },
  {
   "cell_type": "code",
   "execution_count": null,
   "metadata": {},
   "outputs": [],
   "source": []
  },
  {
   "cell_type": "code",
   "execution_count": null,
   "metadata": {},
   "outputs": [],
   "source": []
  }
 ],
 "metadata": {
  "kernelspec": {
   "display_name": "Python 3",
   "language": "python",
   "name": "python3"
  },
  "language_info": {
   "codemirror_mode": {
    "name": "ipython",
    "version": 3
   },
   "file_extension": ".py",
   "mimetype": "text/x-python",
   "name": "python",
   "nbconvert_exporter": "python",
   "pygments_lexer": "ipython3",
   "version": "3.7.4"
  }
 },
 "nbformat": 4,
 "nbformat_minor": 2
}
