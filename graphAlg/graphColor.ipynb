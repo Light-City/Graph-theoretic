{
 "cells": [
  {
   "cell_type": "markdown",
   "metadata": {},
   "source": [
    "## step 1 Load library"
   ]
  },
  {
   "cell_type": "code",
   "execution_count": 48,
   "metadata": {},
   "outputs": [],
   "source": [
    "from numpy import *\n",
    "import networkx as nx                   \n",
    "import matplotlib.pyplot as plt \n",
    "import pandas as pd\n",
    "import copy\n",
    "%matplotlib inline"
   ]
  },
  {
   "cell_type": "markdown",
   "metadata": {},
   "source": [
    "## step 2 Read Local File"
   ]
  },
  {
   "cell_type": "code",
   "execution_count": 49,
   "metadata": {},
   "outputs": [
    {
     "name": "stdout",
     "output_type": "stream",
     "text": [
      "Please enter a file name：4\n"
     ]
    }
   ],
   "source": [
    "file_number = int(input(\"Please enter a file name：\"))\n",
    "def openFile(file_number):\n",
    "    data = []\n",
    "    with open(\"../data/rawData/\"+ str(file_number)+\".txt\",\"r\") as f:\n",
    "        data=f.readlines()\n",
    "    return data"
   ]
  },
  {
   "cell_type": "code",
   "execution_count": 79,
   "metadata": {},
   "outputs": [
    {
     "data": {
      "text/plain": [
       "['#application\\n',\n",
       " '#Entity : volterra\\n',\n",
       " '#nodes\\n',\n",
       " '46\\n',\n",
       " '#dependency\\n',\n",
       " ' 0 1 0 0 0 0 0 0 0 0 0 0 0 0 0 0 0 0 0 0 0 0 0 0 0 0 0 0 0 0 0 1 0 0 0 0 0 0 0 0 0 0 0 0 0 0\\n',\n",
       " ' 0 0 0 0 0 0 0 0 0 0 0 0 0 0 0 0 0 0 0 0 0 0 0 0 0 0 0 0 0 0 0 0 0 0 0 0 0 0 0 0 0 0 0 0 0 0\\n',\n",
       " ' 0 0 0 1 0 0 0 0 0 0 0 0 0 0 0 0 0 0 0 0 0 0 0 0 0 0 0 0 0 0 0 1 0 0 0 0 0 0 0 0 0 0 0 0 0 0\\n',\n",
       " ' 0 0 0 0 0 0 0 0 0 0 0 0 0 0 0 0 0 0 0 0 0 0 0 0 0 0 0 0 0 0 0 0 0 0 0 0 0 0 0 0 0 0 0 0 0 0\\n',\n",
       " ' 0 0 0 0 0 1 0 0 0 0 0 0 0 0 0 0 0 0 0 0 0 0 0 0 0 0 0 0 0 0 0 0 1 1 0 0 0 0 0 0 0 0 0 0 0 0\\n',\n",
       " ' 0 0 0 0 0 0 0 0 0 0 0 0 0 0 0 0 0 0 0 0 0 0 0 0 0 0 0 0 0 0 0 0 0 0 0 0 0 0 0 0 0 0 0 0 0 0\\n',\n",
       " ' 0 0 0 0 0 0 0 1 0 0 0 0 1 0 0 0 0 0 0 0 0 0 1 0 0 0 0 0 0 0 0 0 0 0 0 0 0 0 0 0 0 0 0 0 0 0\\n',\n",
       " ' 0 0 0 0 0 0 0 0 0 0 0 0 0 0 0 0 0 0 0 0 0 0 0 0 0 0 0 0 0 0 0 0 0 0 0 0 0 0 0 0 0 0 0 0 0 0\\n',\n",
       " ' 0 0 0 0 0 0 0 0 0 1 0 0 0 1 0 0 0 0 0 0 0 0 0 0 1 0 1 0 0 0 0 0 0 0 0 0 0 0 0 0 0 0 0 0 0 0\\n',\n",
       " ' 0 0 0 0 0 0 0 0 0 0 0 0 0 0 0 0 0 0 0 0 0 0 0 0 0 0 0 0 0 0 0 0 0 0 0 0 0 0 0 0 0 0 0 0 0 0\\n',\n",
       " ' 0 0 0 0 0 0 0 0 0 0 0 1 0 0 1 0 0 0 0 0 0 0 0 0 0 0 0 0 1 0 1 0 0 0 0 0 0 0 0 0 0 0 0 0 0 0\\n',\n",
       " ' 0 0 0 0 0 0 0 0 0 0 0 0 0 0 0 0 0 0 0 0 0 0 0 0 0 0 0 0 0 0 0 0 0 0 0 0 0 0 0 0 0 0 0 0 0 0\\n',\n",
       " ' 0 0 0 0 0 0 0 0 0 0 0 0 0 0 0 0 0 0 0 0 0 0 0 0 0 0 0 0 0 0 0 0 0 0 1 0 0 0 0 0 0 0 0 0 0 0\\n',\n",
       " ' 0 0 0 0 0 0 0 0 0 0 0 0 0 0 0 0 0 0 0 0 0 0 0 0 0 0 0 0 0 0 0 0 0 0 0 1 0 0 0 0 0 0 0 0 0 0\\n',\n",
       " ' 0 0 0 0 0 0 0 0 0 0 0 0 0 0 0 0 0 0 0 0 0 0 0 0 0 0 0 0 0 0 0 0 0 0 0 0 1 0 0 0 0 0 0 0 0 0\\n',\n",
       " ' 0 0 0 0 0 0 0 0 0 0 0 0 0 0 0 0 1 0 0 0 0 0 0 0 0 0 0 0 0 0 0 0 0 0 0 0 0 0 0 0 0 0 0 0 0 0\\n',\n",
       " ' 0 0 0 0 0 0 0 0 0 0 0 0 0 0 0 0 0 0 0 0 0 0 0 0 0 0 0 0 0 0 0 0 0 0 0 0 0 1 1 0 0 0 0 0 0 0\\n',\n",
       " ' 0 0 0 0 0 0 0 0 0 0 0 0 0 0 0 0 0 0 1 0 1 0 0 0 0 0 0 0 0 0 0 0 0 0 0 0 0 0 0 0 0 0 0 0 0 0\\n',\n",
       " ' 0 0 0 0 0 0 0 0 0 0 0 0 0 0 0 0 0 0 0 0 0 0 0 0 0 0 0 0 0 0 0 0 0 0 0 0 0 0 0 1 0 0 0 0 0 0\\n',\n",
       " ' 0 0 0 0 0 0 0 0 0 0 0 0 0 0 0 0 0 0 0 0 1 0 0 0 0 0 0 0 0 0 0 0 0 0 0 0 0 0 0 0 0 0 0 0 0 0\\n',\n",
       " ' 0 0 0 0 0 0 0 0 0 0 0 0 0 0 0 0 0 0 0 0 0 0 0 0 0 0 0 0 0 0 0 0 0 0 0 0 0 0 0 0 0 0 0 0 0 1\\n',\n",
       " ' 0 0 0 0 0 0 0 0 0 0 0 0 0 0 0 0 0 0 0 0 0 0 1 0 0 0 0 0 0 0 0 0 0 0 0 0 0 0 0 0 0 0 0 0 0 0\\n',\n",
       " ' 0 0 0 0 0 0 0 0 0 0 0 0 0 0 0 0 0 0 0 0 0 0 0 0 0 0 0 0 0 0 0 0 0 0 0 0 0 0 0 0 1 0 0 0 0 0\\n',\n",
       " ' 0 0 0 0 0 0 0 0 0 0 0 0 0 0 0 0 0 0 0 0 0 0 0 0 1 0 0 0 0 0 0 0 0 0 0 0 0 0 0 0 0 0 0 0 0 0\\n',\n",
       " ' 0 0 0 0 0 0 0 0 0 0 0 0 0 0 0 0 0 0 0 0 0 0 0 0 0 0 0 0 0 0 0 0 0 0 0 0 0 0 0 0 0 1 0 0 0 0\\n',\n",
       " ' 0 0 0 0 0 0 0 0 0 0 0 0 0 0 0 0 0 0 0 0 0 0 0 0 0 0 1 0 0 0 0 0 0 0 0 0 0 0 0 0 0 0 0 0 0 0\\n',\n",
       " ' 0 0 0 0 0 0 0 0 0 0 0 0 0 0 0 0 0 0 0 0 0 0 0 0 0 0 0 0 0 0 0 0 0 0 0 0 0 0 0 0 0 0 1 0 0 0\\n',\n",
       " ' 0 0 0 0 0 0 0 0 0 0 0 0 0 0 0 0 0 0 0 0 0 0 0 0 0 0 0 0 1 0 0 0 0 0 0 0 0 0 0 0 0 0 0 0 0 0\\n',\n",
       " ' 0 0 0 0 0 0 0 0 0 0 0 0 0 0 0 0 0 0 0 0 0 0 0 0 0 0 0 0 0 0 0 0 0 0 0 0 0 0 0 0 0 0 0 1 0 0\\n',\n",
       " ' 0 0 0 0 0 0 0 0 0 0 0 0 0 0 0 0 0 0 0 0 0 0 0 0 0 0 0 0 0 0 1 0 0 0 0 0 0 0 0 0 0 0 0 0 0 0\\n',\n",
       " ' 0 0 0 0 0 0 0 0 0 0 0 0 0 0 0 0 0 0 0 0 0 0 0 0 0 0 0 0 0 0 0 0 0 0 0 0 0 0 0 0 0 0 0 0 1 0\\n',\n",
       " ' 0 0 0 0 0 0 0 0 0 0 0 0 0 0 0 0 0 0 0 0 0 0 0 0 0 0 0 0 0 0 0 0 1 0 0 0 0 0 0 0 0 0 0 0 0 0\\n',\n",
       " ' 0 0 0 0 0 0 0 0 0 0 0 0 0 0 0 0 0 0 0 0 0 0 0 0 0 0 0 0 0 0 0 0 0 1 0 0 0 0 0 0 0 0 0 0 0 0\\n',\n",
       " ' 0 0 0 0 0 0 0 0 0 0 0 0 0 0 0 0 0 0 0 0 0 0 0 0 0 0 0 0 0 0 0 0 0 0 1 0 0 0 0 0 0 0 0 0 0 0\\n',\n",
       " ' 0 0 0 0 0 0 0 0 0 0 0 0 0 0 0 0 0 0 0 0 0 0 0 0 0 0 0 0 0 0 0 0 0 0 0 1 0 0 0 0 0 0 0 0 0 0\\n',\n",
       " ' 0 0 0 0 0 0 0 0 0 0 0 0 0 0 0 0 0 0 0 0 0 0 0 0 0 0 0 0 0 0 0 0 0 0 0 0 1 0 0 0 0 0 0 0 0 0\\n',\n",
       " ' 0 0 0 0 0 0 0 0 0 0 0 0 0 0 0 0 0 0 0 0 0 0 0 0 0 0 0 0 0 0 0 0 0 0 0 0 0 1 0 0 0 0 0 0 0 0\\n',\n",
       " ' 0 0 0 0 0 0 0 0 0 0 0 0 0 0 0 0 0 0 0 0 0 0 0 0 0 0 0 0 0 0 0 0 0 0 0 0 0 0 1 0 0 0 0 0 0 0\\n',\n",
       " ' 0 0 0 0 0 0 0 0 0 0 0 0 0 0 0 0 0 0 0 0 0 0 0 0 0 0 0 0 0 0 0 0 0 0 0 0 0 0 0 1 0 0 0 0 0 0\\n',\n",
       " ' 0 0 0 0 0 0 0 0 0 0 0 0 0 0 0 0 0 0 0 0 0 0 0 0 0 0 0 0 0 0 0 0 0 0 0 0 0 0 0 0 1 0 0 0 0 0\\n',\n",
       " ' 0 0 0 0 0 0 0 0 0 0 0 0 0 0 0 0 0 0 0 0 0 0 0 0 0 0 0 0 0 0 0 0 0 0 0 0 0 0 0 0 0 1 0 0 0 0\\n',\n",
       " ' 0 0 0 0 0 0 0 0 0 0 0 0 0 0 0 0 0 0 0 0 0 0 0 0 0 0 0 0 0 0 0 0 0 0 0 0 0 0 0 0 0 0 1 0 0 0\\n',\n",
       " ' 0 0 0 0 0 0 0 0 0 0 0 0 0 0 0 0 0 0 0 0 0 0 0 0 0 0 0 0 0 0 0 0 0 0 0 0 0 0 0 0 0 0 0 1 0 0\\n',\n",
       " ' 0 0 0 0 0 0 0 0 0 0 0 0 0 0 0 0 0 0 0 0 0 0 0 0 0 0 0 0 0 0 0 0 0 0 0 0 0 0 0 0 0 0 0 0 1 0\\n',\n",
       " ' 0 0 0 0 0 0 0 0 0 0 0 0 0 0 0 0 0 0 0 0 0 0 0 0 0 0 0 0 0 0 0 0 0 0 0 0 0 0 0 0 0 0 0 0 0 1\\n',\n",
       " ' 0 0 0 0 0 0 0 0 0 0 0 0 0 0 0 0 0 0 0 0 0 0 0 0 0 0 0 0 0 0 0 0 0 0 0 0 0 0 0 0 0 0 0 0 0 0\\n',\n",
       " '#types\\n',\n",
       " ' 1 0 1 0 1 0 1 1 1 1 1 1 1 1 1 1 1 1 1 1 1 1 1 1 1 1 1 1 1 1 1 0 0 0 0 0 0 0 0 0 0 0 0 0 0 0']"
      ]
     },
     "execution_count": 79,
     "metadata": {},
     "output_type": "execute_result"
    }
   ],
   "source": [
    "data = openFile(file_number)\n",
    "data"
   ]
  },
  {
   "cell_type": "code",
   "execution_count": 51,
   "metadata": {},
   "outputs": [
    {
     "data": {
      "text/plain": [
       "46"
      ]
     },
     "execution_count": 51,
     "metadata": {},
     "output_type": "execute_result"
    }
   ],
   "source": [
    "# get node number\n",
    "'''\n",
    "for example:\n",
    "#nodes\n",
    "3\n",
    "\n",
    "return 3\n",
    "'''\n",
    "node_number = int(data[3])\n",
    "node_number"
   ]
  },
  {
   "cell_type": "code",
   "execution_count": 52,
   "metadata": {},
   "outputs": [
    {
     "data": {
      "text/plain": [
       "['1',\n",
       " '0',\n",
       " '1',\n",
       " '0',\n",
       " '1',\n",
       " '0',\n",
       " '1',\n",
       " '1',\n",
       " '1',\n",
       " '1',\n",
       " '1',\n",
       " '1',\n",
       " '1',\n",
       " '1',\n",
       " '1',\n",
       " '1',\n",
       " '1',\n",
       " '1',\n",
       " '1',\n",
       " '1',\n",
       " '1',\n",
       " '1',\n",
       " '1',\n",
       " '1',\n",
       " '1',\n",
       " '1',\n",
       " '1',\n",
       " '1',\n",
       " '1',\n",
       " '1',\n",
       " '1',\n",
       " '0',\n",
       " '0',\n",
       " '0',\n",
       " '0',\n",
       " '0',\n",
       " '0',\n",
       " '0',\n",
       " '0',\n",
       " '0',\n",
       " '0',\n",
       " '0',\n",
       " '0',\n",
       " '0',\n",
       " '0',\n",
       " '0']"
      ]
     },
     "execution_count": 52,
     "metadata": {},
     "output_type": "execute_result"
    }
   ],
   "source": [
    "# get types \n",
    "'''\n",
    "for example:\n",
    "#types\n",
    " 0 0 0\n",
    "\n",
    "return ['0','0','0']\n",
    "'''\n",
    "types = data[-1].strip().split(' ')\n",
    "types"
   ]
  },
  {
   "cell_type": "code",
   "execution_count": 53,
   "metadata": {},
   "outputs": [],
   "source": [
    "# According to the sequence of IP cores\n",
    "def seqList(types):\n",
    "    type_set = set()\n",
    "    typeSetSeq = []\n",
    "    for i in types:\n",
    "        if i not in type_set:\n",
    "            type_set.add(i)\n",
    "            typeSetSeq.append(i)\n",
    "    return typeSetSeq"
   ]
  },
  {
   "cell_type": "code",
   "execution_count": 54,
   "metadata": {},
   "outputs": [
    {
     "data": {
      "text/plain": [
       "['1', '0']"
      ]
     },
     "execution_count": 54,
     "metadata": {},
     "output_type": "execute_result"
    }
   ],
   "source": [
    "typeSetSeq = seqList(types)\n",
    "typeSetSeq"
   ]
  },
  {
   "cell_type": "code",
   "execution_count": 55,
   "metadata": {},
   "outputs": [
    {
     "name": "stdout",
     "output_type": "stream",
     "text": [
      "Please enter n trusted IP cores:0\n"
     ]
    }
   ],
   "source": [
    "# Enter n trusted IP cores\n",
    "while(True):\n",
    "    n_ip= int(input(\"Please enter n trusted IP cores:\"))\n",
    "    if n_ip<=len(typeSetSeq):\n",
    "        break;"
   ]
  },
  {
   "cell_type": "markdown",
   "metadata": {},
   "source": [
    "## step 3 Create Raw Matrix"
   ]
  },
  {
   "cell_type": "code",
   "execution_count": 56,
   "metadata": {},
   "outputs": [
    {
     "name": "stdout",
     "output_type": "stream",
     "text": [
      "[[0 0 0 ... 0 0 0]\n",
      " [0 0 0 ... 0 0 0]\n",
      " [0 0 0 ... 0 0 0]\n",
      " ...\n",
      " [0 0 0 ... 0 0 0]\n",
      " [0 0 0 ... 0 0 0]\n",
      " [0 0 0 ... 0 0 0]]\n",
      "[' 0 1 0 0 0 0 0 0 0 0 0 0 0 0 0 0 0 0 0 0 0 0 0 0 0 0 0 0 0 0 0 1 0 0 0 0 0 0 0 0 0 0 0 0 0 0\\n', ' 0 0 0 0 0 0 0 0 0 0 0 0 0 0 0 0 0 0 0 0 0 0 0 0 0 0 0 0 0 0 0 0 0 0 0 0 0 0 0 0 0 0 0 0 0 0\\n', ' 0 0 0 1 0 0 0 0 0 0 0 0 0 0 0 0 0 0 0 0 0 0 0 0 0 0 0 0 0 0 0 1 0 0 0 0 0 0 0 0 0 0 0 0 0 0\\n', ' 0 0 0 0 0 0 0 0 0 0 0 0 0 0 0 0 0 0 0 0 0 0 0 0 0 0 0 0 0 0 0 0 0 0 0 0 0 0 0 0 0 0 0 0 0 0\\n', ' 0 0 0 0 0 1 0 0 0 0 0 0 0 0 0 0 0 0 0 0 0 0 0 0 0 0 0 0 0 0 0 0 1 1 0 0 0 0 0 0 0 0 0 0 0 0\\n', ' 0 0 0 0 0 0 0 0 0 0 0 0 0 0 0 0 0 0 0 0 0 0 0 0 0 0 0 0 0 0 0 0 0 0 0 0 0 0 0 0 0 0 0 0 0 0\\n', ' 0 0 0 0 0 0 0 1 0 0 0 0 1 0 0 0 0 0 0 0 0 0 1 0 0 0 0 0 0 0 0 0 0 0 0 0 0 0 0 0 0 0 0 0 0 0\\n', ' 0 0 0 0 0 0 0 0 0 0 0 0 0 0 0 0 0 0 0 0 0 0 0 0 0 0 0 0 0 0 0 0 0 0 0 0 0 0 0 0 0 0 0 0 0 0\\n', ' 0 0 0 0 0 0 0 0 0 1 0 0 0 1 0 0 0 0 0 0 0 0 0 0 1 0 1 0 0 0 0 0 0 0 0 0 0 0 0 0 0 0 0 0 0 0\\n', ' 0 0 0 0 0 0 0 0 0 0 0 0 0 0 0 0 0 0 0 0 0 0 0 0 0 0 0 0 0 0 0 0 0 0 0 0 0 0 0 0 0 0 0 0 0 0\\n', ' 0 0 0 0 0 0 0 0 0 0 0 1 0 0 1 0 0 0 0 0 0 0 0 0 0 0 0 0 1 0 1 0 0 0 0 0 0 0 0 0 0 0 0 0 0 0\\n', ' 0 0 0 0 0 0 0 0 0 0 0 0 0 0 0 0 0 0 0 0 0 0 0 0 0 0 0 0 0 0 0 0 0 0 0 0 0 0 0 0 0 0 0 0 0 0\\n', ' 0 0 0 0 0 0 0 0 0 0 0 0 0 0 0 0 0 0 0 0 0 0 0 0 0 0 0 0 0 0 0 0 0 0 1 0 0 0 0 0 0 0 0 0 0 0\\n', ' 0 0 0 0 0 0 0 0 0 0 0 0 0 0 0 0 0 0 0 0 0 0 0 0 0 0 0 0 0 0 0 0 0 0 0 1 0 0 0 0 0 0 0 0 0 0\\n', ' 0 0 0 0 0 0 0 0 0 0 0 0 0 0 0 0 0 0 0 0 0 0 0 0 0 0 0 0 0 0 0 0 0 0 0 0 1 0 0 0 0 0 0 0 0 0\\n', ' 0 0 0 0 0 0 0 0 0 0 0 0 0 0 0 0 1 0 0 0 0 0 0 0 0 0 0 0 0 0 0 0 0 0 0 0 0 0 0 0 0 0 0 0 0 0\\n', ' 0 0 0 0 0 0 0 0 0 0 0 0 0 0 0 0 0 0 0 0 0 0 0 0 0 0 0 0 0 0 0 0 0 0 0 0 0 1 1 0 0 0 0 0 0 0\\n', ' 0 0 0 0 0 0 0 0 0 0 0 0 0 0 0 0 0 0 1 0 1 0 0 0 0 0 0 0 0 0 0 0 0 0 0 0 0 0 0 0 0 0 0 0 0 0\\n', ' 0 0 0 0 0 0 0 0 0 0 0 0 0 0 0 0 0 0 0 0 0 0 0 0 0 0 0 0 0 0 0 0 0 0 0 0 0 0 0 1 0 0 0 0 0 0\\n', ' 0 0 0 0 0 0 0 0 0 0 0 0 0 0 0 0 0 0 0 0 1 0 0 0 0 0 0 0 0 0 0 0 0 0 0 0 0 0 0 0 0 0 0 0 0 0\\n', ' 0 0 0 0 0 0 0 0 0 0 0 0 0 0 0 0 0 0 0 0 0 0 0 0 0 0 0 0 0 0 0 0 0 0 0 0 0 0 0 0 0 0 0 0 0 1\\n', ' 0 0 0 0 0 0 0 0 0 0 0 0 0 0 0 0 0 0 0 0 0 0 1 0 0 0 0 0 0 0 0 0 0 0 0 0 0 0 0 0 0 0 0 0 0 0\\n', ' 0 0 0 0 0 0 0 0 0 0 0 0 0 0 0 0 0 0 0 0 0 0 0 0 0 0 0 0 0 0 0 0 0 0 0 0 0 0 0 0 1 0 0 0 0 0\\n', ' 0 0 0 0 0 0 0 0 0 0 0 0 0 0 0 0 0 0 0 0 0 0 0 0 1 0 0 0 0 0 0 0 0 0 0 0 0 0 0 0 0 0 0 0 0 0\\n', ' 0 0 0 0 0 0 0 0 0 0 0 0 0 0 0 0 0 0 0 0 0 0 0 0 0 0 0 0 0 0 0 0 0 0 0 0 0 0 0 0 0 1 0 0 0 0\\n', ' 0 0 0 0 0 0 0 0 0 0 0 0 0 0 0 0 0 0 0 0 0 0 0 0 0 0 1 0 0 0 0 0 0 0 0 0 0 0 0 0 0 0 0 0 0 0\\n', ' 0 0 0 0 0 0 0 0 0 0 0 0 0 0 0 0 0 0 0 0 0 0 0 0 0 0 0 0 0 0 0 0 0 0 0 0 0 0 0 0 0 0 1 0 0 0\\n', ' 0 0 0 0 0 0 0 0 0 0 0 0 0 0 0 0 0 0 0 0 0 0 0 0 0 0 0 0 1 0 0 0 0 0 0 0 0 0 0 0 0 0 0 0 0 0\\n', ' 0 0 0 0 0 0 0 0 0 0 0 0 0 0 0 0 0 0 0 0 0 0 0 0 0 0 0 0 0 0 0 0 0 0 0 0 0 0 0 0 0 0 0 1 0 0\\n', ' 0 0 0 0 0 0 0 0 0 0 0 0 0 0 0 0 0 0 0 0 0 0 0 0 0 0 0 0 0 0 1 0 0 0 0 0 0 0 0 0 0 0 0 0 0 0\\n', ' 0 0 0 0 0 0 0 0 0 0 0 0 0 0 0 0 0 0 0 0 0 0 0 0 0 0 0 0 0 0 0 0 0 0 0 0 0 0 0 0 0 0 0 0 1 0\\n', ' 0 0 0 0 0 0 0 0 0 0 0 0 0 0 0 0 0 0 0 0 0 0 0 0 0 0 0 0 0 0 0 0 1 0 0 0 0 0 0 0 0 0 0 0 0 0\\n', ' 0 0 0 0 0 0 0 0 0 0 0 0 0 0 0 0 0 0 0 0 0 0 0 0 0 0 0 0 0 0 0 0 0 1 0 0 0 0 0 0 0 0 0 0 0 0\\n', ' 0 0 0 0 0 0 0 0 0 0 0 0 0 0 0 0 0 0 0 0 0 0 0 0 0 0 0 0 0 0 0 0 0 0 1 0 0 0 0 0 0 0 0 0 0 0\\n', ' 0 0 0 0 0 0 0 0 0 0 0 0 0 0 0 0 0 0 0 0 0 0 0 0 0 0 0 0 0 0 0 0 0 0 0 1 0 0 0 0 0 0 0 0 0 0\\n', ' 0 0 0 0 0 0 0 0 0 0 0 0 0 0 0 0 0 0 0 0 0 0 0 0 0 0 0 0 0 0 0 0 0 0 0 0 1 0 0 0 0 0 0 0 0 0\\n', ' 0 0 0 0 0 0 0 0 0 0 0 0 0 0 0 0 0 0 0 0 0 0 0 0 0 0 0 0 0 0 0 0 0 0 0 0 0 1 0 0 0 0 0 0 0 0\\n', ' 0 0 0 0 0 0 0 0 0 0 0 0 0 0 0 0 0 0 0 0 0 0 0 0 0 0 0 0 0 0 0 0 0 0 0 0 0 0 1 0 0 0 0 0 0 0\\n', ' 0 0 0 0 0 0 0 0 0 0 0 0 0 0 0 0 0 0 0 0 0 0 0 0 0 0 0 0 0 0 0 0 0 0 0 0 0 0 0 1 0 0 0 0 0 0\\n', ' 0 0 0 0 0 0 0 0 0 0 0 0 0 0 0 0 0 0 0 0 0 0 0 0 0 0 0 0 0 0 0 0 0 0 0 0 0 0 0 0 1 0 0 0 0 0\\n', ' 0 0 0 0 0 0 0 0 0 0 0 0 0 0 0 0 0 0 0 0 0 0 0 0 0 0 0 0 0 0 0 0 0 0 0 0 0 0 0 0 0 1 0 0 0 0\\n', ' 0 0 0 0 0 0 0 0 0 0 0 0 0 0 0 0 0 0 0 0 0 0 0 0 0 0 0 0 0 0 0 0 0 0 0 0 0 0 0 0 0 0 1 0 0 0\\n', ' 0 0 0 0 0 0 0 0 0 0 0 0 0 0 0 0 0 0 0 0 0 0 0 0 0 0 0 0 0 0 0 0 0 0 0 0 0 0 0 0 0 0 0 1 0 0\\n', ' 0 0 0 0 0 0 0 0 0 0 0 0 0 0 0 0 0 0 0 0 0 0 0 0 0 0 0 0 0 0 0 0 0 0 0 0 0 0 0 0 0 0 0 0 1 0\\n', ' 0 0 0 0 0 0 0 0 0 0 0 0 0 0 0 0 0 0 0 0 0 0 0 0 0 0 0 0 0 0 0 0 0 0 0 0 0 0 0 0 0 0 0 0 0 1\\n', ' 0 0 0 0 0 0 0 0 0 0 0 0 0 0 0 0 0 0 0 0 0 0 0 0 0 0 0 0 0 0 0 0 0 0 0 0 0 0 0 0 0 0 0 0 0 0\\n']\n"
     ]
    }
   ],
   "source": [
    "# create matrix\n",
    "'''\n",
    " 0 1 1\n",
    " 0 0 0\n",
    " 0 0 0\n",
    "'''\n",
    "\n",
    "raw_matrix = zeros((node_number,node_number),dtype=int)    \n",
    "print(raw_matrix)\n",
    "\n",
    "# Get all matrix rows\n",
    "lines = data[5:-2]\n",
    "print(lines)"
   ]
  },
  {
   "cell_type": "code",
   "execution_count": 57,
   "metadata": {},
   "outputs": [],
   "source": [
    "# get raw matrix\n",
    "def getMatrix(lines):\n",
    "    # format list for lines\n",
    "    raw_matrix_row = 0                      # Represents the rows of the matrix, starting from row 0\n",
    "    for line in lines:             #Read the data in lines line by line\n",
    "        list = line.strip().strip('\\n').split(' ')      #Process line-by-line data: strip means removing the '\\ n' from the head and tail, split means splitting the line data with spaces, and then returning the processed line data to the list\n",
    "        raw_matrix[raw_matrix_row:] = list[:node_number]                    #Place the processed data in square matrix A. list [0: 3] means that the 0,1,2 columns of the list are placed in the A_row row in matrix A\n",
    "        raw_matrix_row+=1        #Then continue reading the next row of matrix A                        \n",
    "        #print(line)"
   ]
  },
  {
   "cell_type": "code",
   "execution_count": 58,
   "metadata": {},
   "outputs": [
    {
     "name": "stdout",
     "output_type": "stream",
     "text": [
      "[[0 1 0 ... 0 0 0]\n",
      " [0 0 0 ... 0 0 0]\n",
      " [0 0 0 ... 0 0 0]\n",
      " ...\n",
      " [0 0 0 ... 0 1 0]\n",
      " [0 0 0 ... 0 0 1]\n",
      " [0 0 0 ... 0 0 0]]\n"
     ]
    }
   ],
   "source": [
    "getMatrix(lines)\n",
    "# print\n",
    "print(raw_matrix)    "
   ]
  },
  {
   "cell_type": "markdown",
   "metadata": {},
   "source": [
    "## step 4 Matrix transformation and expansion"
   ]
  },
  {
   "cell_type": "code",
   "execution_count": 59,
   "metadata": {},
   "outputs": [],
   "source": [
    "# Convert to symmetric matrix\n",
    "def toNoDirectGraph(matrix,n):\n",
    "    for i in range(n):\n",
    "        for j in range(n):\n",
    "            if matrix[i][j]==1:\n",
    "                matrix[j][i]=matrix[i][j]\n",
    "    return matrix"
   ]
  },
  {
   "cell_type": "code",
   "execution_count": 60,
   "metadata": {},
   "outputs": [],
   "source": [
    "# def computeParentNode(matrix,n):\n",
    "#     raw = matrix\n",
    "#     for i in range(n):\n",
    "#         for j in range(i+1,n):\n",
    "#             for k in range(n):\n",
    "#                 if matrix[i][k]==1 and matrix[j][k]==1:\n",
    "#                     raw[i][j]=1\n",
    "#     return raw\n",
    "# print(raw_matrix)\n",
    "# print(computeParentNode(raw_matrix,node_number))\n",
    "# print(raw_matrix)"
   ]
  },
  {
   "cell_type": "code",
   "execution_count": 61,
   "metadata": {},
   "outputs": [],
   "source": [
    "# Matrix expansion\n",
    "def generateMatrix(matrix,n):\n",
    "    actual_number=n*3\n",
    "    bigMatrix = zeros((actual_number,actual_number),dtype=int) \n",
    "    for i in range(actual_number):\n",
    "        for j in range(actual_number):\n",
    "            # Start filling the upper left corner\n",
    "            if i<n and j<n:\n",
    "                bigMatrix[i][j]=matrix[i][j]\n",
    "                # Connecting special relationships\n",
    "                bigMatrix[i][i+n]=1\n",
    "                bigMatrix[i][i+2*n]=1\n",
    "            if i==0 and j<n:    \n",
    "                bigMatrix[j+n][j+2*n]=1\n",
    "            # Start expanding the middle section\n",
    "            if (i>=n and i<2*n) and (j>=n and j<2*n):\n",
    "                bigMatrix[i][j]=matrix[i-n][j-n]\n",
    "            # Start expanding the bottom right corner\n",
    "            if (i>=2*n and i<3*n) and (j>=2*n and j<3*n):\n",
    "                bigMatrix[i][j]=matrix[i-2*n][j-2*n]\n",
    "    return bigMatrix"
   ]
  },
  {
   "cell_type": "code",
   "execution_count": 62,
   "metadata": {},
   "outputs": [
    {
     "name": "stdout",
     "output_type": "stream",
     "text": [
      "[[0 1 0 ... 0 0 0]\n",
      " [0 0 0 ... 0 0 0]\n",
      " [0 0 0 ... 0 0 0]\n",
      " ...\n",
      " [0 0 0 ... 0 1 0]\n",
      " [0 0 0 ... 0 0 1]\n",
      " [0 0 0 ... 0 0 0]]\n"
     ]
    }
   ],
   "source": [
    "bigMatrix=generateMatrix(raw_matrix,node_number)\n",
    "print(bigMatrix)"
   ]
  },
  {
   "cell_type": "code",
   "execution_count": 63,
   "metadata": {},
   "outputs": [
    {
     "name": "stdout",
     "output_type": "stream",
     "text": [
      "[[0 1 0 ... 0 0 0]\n",
      " [1 0 0 ... 0 0 0]\n",
      " [0 0 0 ... 0 0 0]\n",
      " ...\n",
      " [0 0 0 ... 0 1 0]\n",
      " [0 0 0 ... 1 0 1]\n",
      " [0 0 0 ... 0 1 0]]\n",
      "(138, 138)\n"
     ]
    }
   ],
   "source": [
    "bigMatrix = toNoDirectGraph(bigMatrix,3*node_number) \n",
    "print(bigMatrix)\n",
    "print(bigMatrix.shape)"
   ]
  },
  {
   "cell_type": "markdown",
   "metadata": {},
   "source": [
    "## step 5 Modify the matrix based on the trusted IP core"
   ]
  },
  {
   "cell_type": "code",
   "execution_count": 64,
   "metadata": {},
   "outputs": [],
   "source": [
    "# time space is O(n)\n",
    "def getLoc(types,seq):\n",
    "    # Get the index of the trusted IP core from the type list (actual position -1)\n",
    "    pos = []\n",
    "    for i in range(len(types)):\n",
    "        if types[i] in seq:\n",
    "            pos.append(i)\n",
    "    return pos"
   ]
  },
  {
   "cell_type": "code",
   "execution_count": 65,
   "metadata": {},
   "outputs": [],
   "source": [
    "# Chinese: n如果等于typeSetSeq长度，表示全部ip核受信任,直接计算vendor1的价格,直接调到后面执行vendor计算\n",
    "# English: If n is equal to the length of typeSetSeq, it means that all IP cores are trusted, and the price of vendor1 is directly calculated, which is directly transferred to the vendor calculation later.\n",
    "\n",
    "# Chinese: 否则接着往下执行\n",
    "# English: Otherwise, proceed to the next step\n",
    "\n",
    "pos=[]\n",
    "\n",
    "# Some are trusted, some are untrusted, remove trusted IP cores\n",
    "if n_ip>0 and n_ip<len(typeSetSeq):\n",
    "    frontSeq  = typeSetSeq[:n_ip]  # Trusted ip core\n",
    "    print(frontSeq)\n",
    "    pos = getLoc(types,frontSeq)   # The index of the trusted IP core\n",
    "    print(pos)\n",
    "    # Expand pos to triple length\n",
    "    pos_1 = [i+node_number for i in pos]\n",
    "    print(pos_1)\n",
    "    pos_2 = [i+2*node_number for i in pos]\n",
    "    print(pos_2)\n",
    "    pos = pos+pos_1+pos_2\n",
    "    print(pos)   # The index corresponding to the IP core expanded three times\n",
    "    # Modify bigMatrix\n",
    "    for i in range(3*node_number):\n",
    "        if i in pos:\n",
    "            for j in range(3*node_number):\n",
    "                bigMatrix[i][j]=0\n",
    "        else:\n",
    "            for j in range(3*node_number):\n",
    "                if j in pos:\n",
    "                    bigMatrix[i][j]=0\n",
    "    bigMatrix"
   ]
  },
  {
   "cell_type": "code",
   "execution_count": 66,
   "metadata": {},
   "outputs": [
    {
     "data": {
      "text/plain": [
       "array([[0, 1, 0, ..., 0, 0, 0],\n",
       "       [1, 0, 0, ..., 0, 0, 0],\n",
       "       [0, 0, 0, ..., 0, 0, 0],\n",
       "       ...,\n",
       "       [0, 0, 0, ..., 0, 1, 0],\n",
       "       [0, 0, 0, ..., 1, 0, 1],\n",
       "       [0, 0, 0, ..., 0, 1, 0]])"
      ]
     },
     "execution_count": 66,
     "metadata": {},
     "output_type": "execute_result"
    }
   ],
   "source": [
    "bigMatrix"
   ]
  },
  {
   "cell_type": "markdown",
   "metadata": {},
   "source": [
    "## step 6 Create graphs and graph coloring"
   ]
  },
  {
   "cell_type": "code",
   "execution_count": 67,
   "metadata": {},
   "outputs": [],
   "source": [
    "# takes matrix and creates a undirected graph\n",
    "def CreateGraph():\n",
    "    df = pd.DataFrame(bigMatrix)\n",
    "    # create Graph\n",
    "    G = nx.from_pandas_adjacency(df)\n",
    "    return G"
   ]
  },
  {
   "cell_type": "code",
   "execution_count": 68,
   "metadata": {},
   "outputs": [],
   "source": [
    "G = CreateGraph()"
   ]
  },
  {
   "cell_type": "code",
   "execution_count": 69,
   "metadata": {},
   "outputs": [
    {
     "name": "stdout",
     "output_type": "stream",
     "text": [
      "{30: 0, 122: 1, 76: 2, 44: 1, 90: 0, 136: 2, 43: 0, 89: 1, 135: 3, 10: 1, 56: 0, 102: 2, 74: 2, 120: 0, 28: 3, 134: 0, 88: 2, 42: 1, 118: 1, 26: 0, 72: 3, 87: 0, 41: 2, 133: 1, 70: 1, 54: 0, 116: 0, 100: 2, 8: 1, 24: 3, 86: 1, 132: 0, 40: 3, 85: 0, 131: 1, 39: 2, 84: 1, 130: 0, 38: 3, 83: 0, 129: 1, 37: 2, 62: 2, 108: 3, 16: 0, 82: 1, 128: 0, 36: 3, 60: 2, 106: 1, 14: 0, 127: 1, 81: 0, 35: 2, 105: 0, 59: 1, 13: 3, 110: 0, 18: 1, 64: 2, 63: 0, 17: 2, 109: 1, 45: 0, 20: 1, 91: 1, 66: 2, 112: 0, 137: 3, 126: 0, 34: 1, 80: 2, 12: 0, 58: 1, 104: 2, 22: 0, 114: 1, 68: 2, 52: 0, 98: 3, 6: 1, 79: 0, 125: 1, 96: 0, 124: 2, 50: 1, 78: 3, 33: 2, 32: 0, 4: 3, 31: 1, 123: 0, 77: 2, 94: 1, 2: 0, 48: 3, 92: 1, 0: 0, 46: 3, 75: 0, 121: 2, 29: 1, 119: 1, 73: 0, 27: 2, 71: 0, 117: 2, 25: 1, 69: 0, 115: 1, 23: 2, 67: 0, 113: 2, 21: 1, 111: 1, 65: 0, 19: 2, 61: 0, 107: 1, 15: 2, 103: 0, 57: 1, 11: 2, 55: 1, 101: 0, 9: 2, 53: 1, 99: 0, 7: 2, 51: 0, 97: 1, 5: 2, 95: 0, 49: 1, 3: 2, 47: 0, 93: 2, 1: 1}\n",
      "[0, 1, 0, 2, 3, 2, 1, 2, 1, 2, 1, 2, 0, 3, 0, 2, 0, 2, 1, 2, 1, 1, 0, 2, 3, 1, 0, 2, 3, 1, 0, 1, 0, 2, 1, 2, 3, 2, 3, 2, 3, 2, 1, 0, 1, 0, 3, 0, 3, 1, 1, 0, 0, 1, 0, 1, 0, 1, 1, 1, 2, 0, 2, 0, 2, 0, 2, 0, 2, 0, 1, 0, 3, 0, 2, 0, 2, 2, 3, 0, 2, 0, 1, 0, 1, 0, 1, 0, 2, 1, 0, 1, 1, 2, 1, 0, 0, 1, 3, 0, 2, 0, 2, 0, 2, 0, 1, 1, 3, 1, 0, 1, 0, 2, 1, 1, 0, 2, 1, 1, 0, 2, 1, 0, 2, 1, 0, 1, 0, 1, 0, 1, 0, 1, 0, 3, 2, 3]\n"
     ]
    }
   ],
   "source": [
    "# Find the minimum color needed for coloring\n",
    "colors = nx.coloring.greedy_color(G, strategy='smallest_last')\n",
    "print(colors)\n",
    "\n",
    "colors = [colors[k] for k in sorted(colors.keys())]\n",
    "print(colors)"
   ]
  },
  {
   "cell_type": "code",
   "execution_count": 70,
   "metadata": {},
   "outputs": [],
   "source": [
    "#draws the graph and displays the weights on the edges\n",
    "def DrawGraph(G,colors):\n",
    "    pos = nx.spring_layout(G)\n",
    "    nx.draw(G, pos, with_labels = True, node_color = colors, edge_color = 'black' ,width = 1, alpha = 0.7)  #with_labels=true is to show the node number in the output graph"
   ]
  },
  {
   "cell_type": "code",
   "execution_count": 71,
   "metadata": {},
   "outputs": [
    {
     "name": "stderr",
     "output_type": "stream",
     "text": [
      "/home/light/anaconda3/lib/python3.7/site-packages/networkx/drawing/nx_pylab.py:579: MatplotlibDeprecationWarning: \n",
      "The iterable function was deprecated in Matplotlib 3.1 and will be removed in 3.3. Use np.iterable instead.\n",
      "  if not cb.iterable(width):\n"
     ]
    },
    {
     "data": {
      "image/png": "[encoded data removed]",
      "text/plain": [
       "<Figure size 432x288 with 1 Axes>"
      ]
     },
     "metadata": {},
     "output_type": "display_data"
    }
   ],
   "source": [
    "DrawGraph(G,colors)"
   ]
  },
  {
   "cell_type": "code",
   "execution_count": 72,
   "metadata": {},
   "outputs": [
    {
     "name": "stdout",
     "output_type": "stream",
     "text": [
      "at least 4 colors\n"
     ]
    },
    {
     "data": {
      "text/plain": [
       "{0: [1,\n",
       "  3,\n",
       "  13,\n",
       "  15,\n",
       "  17,\n",
       "  23,\n",
       "  27,\n",
       "  31,\n",
       "  33,\n",
       "  44,\n",
       "  46,\n",
       "  48,\n",
       "  52,\n",
       "  53,\n",
       "  55,\n",
       "  57,\n",
       "  62,\n",
       "  64,\n",
       "  66,\n",
       "  68,\n",
       "  70,\n",
       "  72,\n",
       "  74,\n",
       "  76,\n",
       "  80,\n",
       "  82,\n",
       "  84,\n",
       "  86,\n",
       "  88,\n",
       "  91,\n",
       "  96,\n",
       "  97,\n",
       "  100,\n",
       "  102,\n",
       "  104,\n",
       "  106,\n",
       "  111,\n",
       "  113,\n",
       "  117,\n",
       "  121,\n",
       "  124,\n",
       "  127,\n",
       "  129,\n",
       "  131,\n",
       "  133,\n",
       "  135],\n",
       " 1: [2,\n",
       "  7,\n",
       "  9,\n",
       "  11,\n",
       "  19,\n",
       "  21,\n",
       "  22,\n",
       "  26,\n",
       "  30,\n",
       "  32,\n",
       "  35,\n",
       "  43,\n",
       "  45,\n",
       "  50,\n",
       "  51,\n",
       "  54,\n",
       "  56,\n",
       "  58,\n",
       "  59,\n",
       "  60,\n",
       "  71,\n",
       "  83,\n",
       "  85,\n",
       "  87,\n",
       "  90,\n",
       "  92,\n",
       "  93,\n",
       "  95,\n",
       "  98,\n",
       "  107,\n",
       "  108,\n",
       "  110,\n",
       "  112,\n",
       "  115,\n",
       "  116,\n",
       "  119,\n",
       "  120,\n",
       "  123,\n",
       "  126,\n",
       "  128,\n",
       "  130,\n",
       "  132,\n",
       "  134],\n",
       " 2: [4,\n",
       "  6,\n",
       "  8,\n",
       "  10,\n",
       "  12,\n",
       "  16,\n",
       "  18,\n",
       "  20,\n",
       "  24,\n",
       "  28,\n",
       "  34,\n",
       "  36,\n",
       "  38,\n",
       "  40,\n",
       "  42,\n",
       "  61,\n",
       "  63,\n",
       "  65,\n",
       "  67,\n",
       "  69,\n",
       "  75,\n",
       "  77,\n",
       "  78,\n",
       "  81,\n",
       "  89,\n",
       "  94,\n",
       "  101,\n",
       "  103,\n",
       "  105,\n",
       "  114,\n",
       "  118,\n",
       "  122,\n",
       "  125,\n",
       "  137],\n",
       " 3: [5, 14, 25, 29, 37, 39, 41, 47, 49, 73, 79, 99, 109, 136, 138]}"
      ]
     },
     "execution_count": 72,
     "metadata": {},
     "output_type": "execute_result"
    }
   ],
   "source": [
    "# Get the minimum number of graph coloring needed\n",
    "colors_set = set()\n",
    "for i in colors:\n",
    "    colors_set.add(i)\n",
    "\n",
    "minimum_color = len(colors_set)\n",
    "print(\"at least \"+str(minimum_color)+\" colors\")\n",
    "\n",
    "# get a dict for {color:[nodes]}\n",
    "result_dict = {}\n",
    "for i in range(len(colors)):\n",
    "    if colors[i] not in result_dict:\n",
    "        result_dict[colors[i]]=[]\n",
    "    result_dict[colors[i]].append(i+1)\n",
    "result_dict\n",
    "# Note that the Index in the figure starts from 0, here is 1"
   ]
  },
  {
   "cell_type": "markdown",
   "metadata": {},
   "source": [
    "## step 7 Store color and node relationships"
   ]
  },
  {
   "cell_type": "code",
   "execution_count": 73,
   "metadata": {},
   "outputs": [
    {
     "data": {
      "text/plain": [
       "{0: [1,\n",
       "  3,\n",
       "  13,\n",
       "  15,\n",
       "  17,\n",
       "  23,\n",
       "  27,\n",
       "  31,\n",
       "  33,\n",
       "  44,\n",
       "  46,\n",
       "  48,\n",
       "  52,\n",
       "  53,\n",
       "  55,\n",
       "  57,\n",
       "  62,\n",
       "  64,\n",
       "  66,\n",
       "  68,\n",
       "  70,\n",
       "  72,\n",
       "  74,\n",
       "  76,\n",
       "  80,\n",
       "  82,\n",
       "  84,\n",
       "  86,\n",
       "  88,\n",
       "  91,\n",
       "  96,\n",
       "  97,\n",
       "  100,\n",
       "  102,\n",
       "  104,\n",
       "  106,\n",
       "  111,\n",
       "  113,\n",
       "  117,\n",
       "  121,\n",
       "  124,\n",
       "  127,\n",
       "  129,\n",
       "  131,\n",
       "  133,\n",
       "  135],\n",
       " 1: [2,\n",
       "  7,\n",
       "  9,\n",
       "  11,\n",
       "  19,\n",
       "  21,\n",
       "  22,\n",
       "  26,\n",
       "  30,\n",
       "  32,\n",
       "  35,\n",
       "  43,\n",
       "  45,\n",
       "  50,\n",
       "  51,\n",
       "  54,\n",
       "  56,\n",
       "  58,\n",
       "  59,\n",
       "  60,\n",
       "  71,\n",
       "  83,\n",
       "  85,\n",
       "  87,\n",
       "  90,\n",
       "  92,\n",
       "  93,\n",
       "  95,\n",
       "  98,\n",
       "  107,\n",
       "  108,\n",
       "  110,\n",
       "  112,\n",
       "  115,\n",
       "  116,\n",
       "  119,\n",
       "  120,\n",
       "  123,\n",
       "  126,\n",
       "  128,\n",
       "  130,\n",
       "  132,\n",
       "  134,\n",
       "  -1,\n",
       "  -1,\n",
       "  -1],\n",
       " 2: [4,\n",
       "  6,\n",
       "  8,\n",
       "  10,\n",
       "  12,\n",
       "  16,\n",
       "  18,\n",
       "  20,\n",
       "  24,\n",
       "  28,\n",
       "  34,\n",
       "  36,\n",
       "  38,\n",
       "  40,\n",
       "  42,\n",
       "  61,\n",
       "  63,\n",
       "  65,\n",
       "  67,\n",
       "  69,\n",
       "  75,\n",
       "  77,\n",
       "  78,\n",
       "  81,\n",
       "  89,\n",
       "  94,\n",
       "  101,\n",
       "  103,\n",
       "  105,\n",
       "  114,\n",
       "  118,\n",
       "  122,\n",
       "  125,\n",
       "  137,\n",
       "  -1,\n",
       "  -1,\n",
       "  -1,\n",
       "  -1,\n",
       "  -1,\n",
       "  -1,\n",
       "  -1,\n",
       "  -1,\n",
       "  -1,\n",
       "  -1,\n",
       "  -1,\n",
       "  -1],\n",
       " 3: [5,\n",
       "  14,\n",
       "  25,\n",
       "  29,\n",
       "  37,\n",
       "  39,\n",
       "  41,\n",
       "  47,\n",
       "  49,\n",
       "  73,\n",
       "  79,\n",
       "  99,\n",
       "  109,\n",
       "  136,\n",
       "  138,\n",
       "  -1,\n",
       "  -1,\n",
       "  -1,\n",
       "  -1,\n",
       "  -1,\n",
       "  -1,\n",
       "  -1,\n",
       "  -1,\n",
       "  -1,\n",
       "  -1,\n",
       "  -1,\n",
       "  -1,\n",
       "  -1,\n",
       "  -1,\n",
       "  -1,\n",
       "  -1,\n",
       "  -1,\n",
       "  -1,\n",
       "  -1,\n",
       "  -1,\n",
       "  -1,\n",
       "  -1,\n",
       "  -1,\n",
       "  -1,\n",
       "  -1,\n",
       "  -1,\n",
       "  -1,\n",
       "  -1,\n",
       "  -1,\n",
       "  -1,\n",
       "  -1]}"
      ]
     },
     "execution_count": 73,
     "metadata": {},
     "output_type": "execute_result"
    }
   ],
   "source": [
    "# list lengths are not equal, in order to store correctly, fill with -1\n",
    "save_dict = copy.deepcopy(result_dict)\n",
    "max_len = 0\n",
    "for k,v in save_dict.items():\n",
    "    max_len=max(max_len,len(v))\n",
    "for k,v in save_dict.items():\n",
    "    if len(v)<max_len:\n",
    "        for i in range(max_len-len(v)):\n",
    "            v.append(-1)\n",
    "save_dict"
   ]
  },
  {
   "cell_type": "code",
   "execution_count": 74,
   "metadata": {},
   "outputs": [],
   "source": [
    "import pandas as pd\n",
    "save = pd.DataFrame(save_dict)\n",
    "\n",
    "save.to_csv('../data/graphColor/'+str(file_number)+'_'+str(n_ip)+'_cipr.txt',sep=' ',index=False)"
   ]
  },
  {
   "cell_type": "code",
   "execution_count": 75,
   "metadata": {},
   "outputs": [
    {
     "name": "stdout",
     "output_type": "stream",
     "text": [
      "['1', '0', '1', '0', '1', '0', '1', '1', '1', '1', '1', '1', '1', '1', '1', '1', '1', '1', '1', '1', '1', '1', '1', '1', '1', '1', '1', '1', '1', '1', '1', '0', '0', '0', '0', '0', '0', '0', '0', '0', '0', '0', '0', '0', '0', '0', '1', '0', '1', '0', '1', '0', '1', '1', '1', '1', '1', '1', '1', '1', '1', '1', '1', '1', '1', '1', '1', '1', '1', '1', '1', '1', '1', '1', '1', '1', '1', '0', '0', '0', '0', '0', '0', '0', '0', '0', '0', '0', '0', '0', '0', '0', '1', '0', '1', '0', '1', '0', '1', '1', '1', '1', '1', '1', '1', '1', '1', '1', '1', '1', '1', '1', '1', '1', '1', '1', '1', '1', '1', '1', '1', '1', '1', '0', '0', '0', '0', '0', '0', '0', '0', '0', '0', '0', '0', '0', '0', '0']\n",
      "[1, 2, 3, 4, 5, 6, 7, 8, 9, 10, 11, 12, 13, 14, 15, 16, 17, 18, 19, 20, 21, 22, 23, 24, 25, 26, 27, 28, 29, 30, 31, 32, 33, 34, 35, 36, 37, 38, 39, 40, 41, 42, 43, 44, 45, 46, 47, 48, 49, 50, 51, 52, 53, 54, 55, 56, 57, 58, 59, 60, 61, 62, 63, 64, 65, 66, 67, 68, 69, 70, 71, 72, 73, 74, 75, 76, 77, 78, 79, 80, 81, 82, 83, 84, 85, 86, 87, 88, 89, 90, 91, 92, 93, 94, 95, 96, 97, 98, 99, 100, 101, 102, 103, 104, 105, 106, 107, 108, 109, 110, 111, 112, 113, 114, 115, 116, 117, 118, 119, 120, 121, 122, 123, 124, 125, 126, 127, 128, 129, 130, 131, 132, 133, 134, 135, 136, 137, 138]\n",
      "{1: '1', 2: '0', 3: '1', 4: '0', 5: '1', 6: '0', 7: '1', 8: '1', 9: '1', 10: '1', 11: '1', 12: '1', 13: '1', 14: '1', 15: '1', 16: '1', 17: '1', 18: '1', 19: '1', 20: '1', 21: '1', 22: '1', 23: '1', 24: '1', 25: '1', 26: '1', 27: '1', 28: '1', 29: '1', 30: '1', 31: '1', 32: '0', 33: '0', 34: '0', 35: '0', 36: '0', 37: '0', 38: '0', 39: '0', 40: '0', 41: '0', 42: '0', 43: '0', 44: '0', 45: '0', 46: '0', 47: '1', 48: '0', 49: '1', 50: '0', 51: '1', 52: '0', 53: '1', 54: '1', 55: '1', 56: '1', 57: '1', 58: '1', 59: '1', 60: '1', 61: '1', 62: '1', 63: '1', 64: '1', 65: '1', 66: '1', 67: '1', 68: '1', 69: '1', 70: '1', 71: '1', 72: '1', 73: '1', 74: '1', 75: '1', 76: '1', 77: '1', 78: '0', 79: '0', 80: '0', 81: '0', 82: '0', 83: '0', 84: '0', 85: '0', 86: '0', 87: '0', 88: '0', 89: '0', 90: '0', 91: '0', 92: '0', 93: '1', 94: '0', 95: '1', 96: '0', 97: '1', 98: '0', 99: '1', 100: '1', 101: '1', 102: '1', 103: '1', 104: '1', 105: '1', 106: '1', 107: '1', 108: '1', 109: '1', 110: '1', 111: '1', 112: '1', 113: '1', 114: '1', 115: '1', 116: '1', 117: '1', 118: '1', 119: '1', 120: '1', 121: '1', 122: '1', 123: '1', 124: '0', 125: '0', 126: '0', 127: '0', 128: '0', 129: '0', 130: '0', 131: '0', 132: '0', 133: '0', 134: '0', 135: '0', 136: '0', 137: '0', 138: '0'}\n",
      "{0: ['1', '1', '1', '1', '1', '1', '1', '1', '0', '0', '0', '0', '0', '1', '1', '1', '1', '1', '1', '1', '1', '1', '1', '1', '0', '0', '0', '0', '0', '0', '0', '1', '1', '1', '1', '1', '1', '1', '1', '1', '0', '0', '0', '0', '0', '0'], 1: ['0', '1', '1', '1', '1', '1', '1', '1', '1', '0', '0', '0', '0', '0', '1', '1', '1', '1', '1', '1', '1', '0', '0', '0', '0', '0', '1', '1', '0', '1', '1', '1', '1', '1', '1', '1', '1', '1', '0', '0', '0', '0', '0'], 2: ['0', '0', '1', '1', '1', '1', '1', '1', '1', '1', '0', '0', '0', '0', '0', '1', '1', '1', '1', '1', '1', '1', '0', '0', '0', '0', '1', '1', '1', '1', '1', '1', '0', '0'], 3: ['1', '1', '1', '1', '0', '0', '0', '1', '1', '1', '0', '1', '1', '0', '0']}\n"
     ]
    }
   ],
   "source": [
    "# 将D集合的对应节点转化为运算符\n",
    "# 建立节点与IP核映射关系\n",
    "types_list=(data[-1].strip().split(' '))*3\n",
    "print(types_list)\n",
    "# types\n",
    "node_list = []\n",
    "for i in range(1,3*node_number+1):\n",
    "    node_list.append(i)\n",
    "print(node_list)\n",
    "node_ip = dict(zip(node_list,types_list))\n",
    "print(node_ip)\n",
    "# 开始转换\n",
    "for key in result_dict:\n",
    "    each_list = []\n",
    "    for each in result_dict[key]:\n",
    "        each_list.append(node_ip[each])\n",
    "    result_dict[key]=each_list\n",
    "    \n",
    "print(result_dict)"
   ]
  },
  {
   "cell_type": "code",
   "execution_count": 76,
   "metadata": {},
   "outputs": [],
   "source": [
    "save_dict = copy.deepcopy(result_dict)\n",
    "max_len = 0\n",
    "for k,v in save_dict.items():\n",
    "    max_len=max(max_len,len(v))\n",
    "for k,v in save_dict.items():\n",
    "    if len(v)<max_len:\n",
    "        for i in range(max_len-len(v)):\n",
    "            v.append(-1)\n",
    "save_dict\n",
    "\n",
    "save = pd.DataFrame(save_dict)\n",
    "\n",
    "save.to_csv('../data/graphColor/'+str(file_number)+'_'+str(n_ip)+'_cip.txt',sep=' ',index=False)"
   ]
  },
  {
   "cell_type": "markdown",
   "metadata": {},
   "source": [
    "## step 8 Generate weight matrix and store"
   ]
  },
  {
   "cell_type": "code",
   "execution_count": 77,
   "metadata": {},
   "outputs": [
    {
     "name": "stdout",
     "output_type": "stream",
     "text": [
      "   vendor    0     1    2    3\n",
      "0       1  539  1128  877  393\n",
      "1       2  548  1192  863  354\n",
      "2       3  585  1111  886  311\n",
      "3       4  565  1127  894  385\n",
      "4       5  535  1124  849  378\n",
      "5       6  581  1149  882  315\n",
      "[[-1667 -1740 -1696 -1692 -1659 -1730]\n",
      " [-1667 -1740 -1696 -1692 -1659 -1730]\n",
      " [-1667 -1740 -1696 -1692 -1659 -1730]\n",
      " [-1667 -1740 -1696 -1692 -1659 -1730]]\n"
     ]
    }
   ],
   "source": [
    "#生成权重矩阵\n",
    "# 读取厂商提供的权重数据\n",
    "import pandas as pd\n",
    "vendor_weight = pd.read_csv('../data/rawData/weight.csv')\n",
    "# print(vendor_weight)\n",
    "# 开始计算权重\n",
    "\n",
    "s,col = vendor_weight.shape\n",
    "\n",
    "# print(s)\n",
    "\n",
    "weightMatrix = zeros((s,minimum_color),dtype=int) # the minimum number of graph coloring needed\n",
    "\n",
    "# print(weightMatrix)\n",
    "\n",
    "print(vendor_weight)\n",
    "\n",
    "# print(vendor_weight['0'])  #  第'0'列\n",
    "\n",
    "# 全部是受信任的ip核，直接按照vendor1价格计算\n",
    "if n_ip==len(typeSetSeq):\n",
    "    totalprice=0\n",
    "    for each in typeSetSeq:\n",
    "        totalprice += vendor_weight[each][0] # 列,行  按照vendor1的价格计算\n",
    "    print(totalprice)\n",
    "# 有受信任的ip核,按照vendor1价格计算\n",
    "elif n_ip>0 and n_ip<len(typeSetSeq):\n",
    "    frontSeq  = typeSetSeq[:n_ip]  # 受信任的ip核\n",
    "    print(frontSeq)\n",
    "    # 考虑vendor1的价格作为受信任ip核的价格\n",
    "    for key in result_dict: #颜色填充列\n",
    "        i=0 \n",
    "        while i<s:  # 每一行\n",
    "            totalprice = 0\n",
    "            d_set = set()\n",
    "            # 颜色:对应节点对应的ip核\n",
    "            for each in result_dict[key]:\n",
    "                if each in d_set:\n",
    "                    continue\n",
    "                else:\n",
    "                    d_set.add(each)\n",
    "                    if each in frontSeq:  # 受信任ip核\n",
    "                        totalprice += vendor_weight[each][0] # 列,行  按照vendor1的价格计算\n",
    "                    else: # 是不受信任的ip核心\n",
    "                        totalprice += vendor_weight[each][i] # 列,行  \n",
    "            weightMatrix[i][key-1]=totalprice\n",
    "            i+=1\n",
    "    print(-weightMatrix.T)\n",
    "else:\n",
    "    # 都是不受信任的ip核计算\n",
    "    for key in result_dict: #颜色填充列\n",
    "        i=0 \n",
    "        while i<s:  # 每一行\n",
    "            totalprice = 0\n",
    "            d_set = set()\n",
    "            # 颜色:对应节点对应的ip核\n",
    "            for each in result_dict[key]:\n",
    "    #             print(each)\n",
    "                if each in d_set:\n",
    "                    continue\n",
    "                else:\n",
    "                    d_set.add(each)\n",
    "                    totalprice += vendor_weight[each][i] # 列,行\n",
    "            weightMatrix[i][key-1]=totalprice\n",
    "            i+=1\n",
    "    print(-weightMatrix.T)"
   ]
  },
  {
   "cell_type": "code",
   "execution_count": 78,
   "metadata": {},
   "outputs": [],
   "source": [
    "import numpy as np\n",
    "np.savetxt(\"../data/graphColor/\"+str(file_number)+'_'+str(n_ip)+'_weight.txt',-weightMatrix.T,fmt=\"%d\")"
   ]
  },
  {
   "cell_type": "code",
   "execution_count": null,
   "metadata": {},
   "outputs": [],
   "source": []
  },
  {
   "cell_type": "code",
   "execution_count": null,
   "metadata": {},
   "outputs": [],
   "source": []
  }
 ],
 "metadata": {
  "kernelspec": {
   "display_name": "Python 3",
   "language": "python",
   "name": "python3"
  },
  "language_info": {
   "codemirror_mode": {
    "name": "ipython",
    "version": 3
   },
   "file_extension": ".py",
   "mimetype": "text/x-python",
   "name": "python",
   "nbconvert_exporter": "python",
   "pygments_lexer": "ipython3",
   "version": "3.7.4"
  }
 },
 "nbformat": 4,
 "nbformat_minor": 2
}
